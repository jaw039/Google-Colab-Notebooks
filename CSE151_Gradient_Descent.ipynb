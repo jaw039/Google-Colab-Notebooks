{
  "cells": [
    {
      "cell_type": "markdown",
      "metadata": {
        "colab_type": "text",
        "id": "view-in-github"
      },
      "source": [
        "<a href=\"https://colab.research.google.com/github/jaw039/Google-Colab-Notebooks/blob/main/CSE151_Gradient_Descent.ipynb\" target=\"_parent\"><img src=\"https://colab.research.google.com/assets/colab-badge.svg\" alt=\"Open In Colab\"/></a>"
      ]
    },
    {
      "cell_type": "code",
      "execution_count": 2,
      "metadata": {
        "id": "8AIZuzGIjfD-"
      },
      "outputs": [
        {
          "name": "stderr",
          "output_type": "stream",
          "text": [
            "Matplotlib is building the font cache; this may take a moment.\n"
          ]
        }
      ],
      "source": [
        "import time\n",
        "import numpy as np\n",
        "import seaborn as sns\n",
        "import matplotlib.pyplot as plt\n",
        "from IPython.display import clear_output"
      ]
    },
    {
      "cell_type": "markdown",
      "metadata": {
        "id": "s_pXms431fZZ"
      },
      "source": [
        "# Data Exploration"
      ]
    },
    {
      "cell_type": "code",
      "execution_count": 3,
      "metadata": {
        "id": "1eCDqmdHka__"
      },
      "outputs": [],
      "source": [
        "# our variable init\n",
        "x = np.array([[1],[0],[1],[0]])\n",
        "bias = 0.5\n",
        "w = np.array([[1.2]]) # needs to be n,1\n",
        "y = np.array([[0],[1],[0],[1]])"
      ]
    },
    {
      "cell_type": "code",
      "execution_count": 4,
      "metadata": {
        "id": "H_w0YYUlkzcs"
      },
      "outputs": [
        {
          "data": {
            "text/plain": [
              "(4, 1)"
            ]
          },
          "metadata": {},
          "output_type": "display_data"
        },
        {
          "data": {
            "text/plain": [
              "(1, 1)"
            ]
          },
          "metadata": {},
          "output_type": "display_data"
        },
        {
          "data": {
            "text/plain": [
              "(4, 1)"
            ]
          },
          "metadata": {},
          "output_type": "display_data"
        }
      ],
      "source": [
        "display(x.shape)\n",
        "display(w.shape)\n",
        "display(y.shape)"
      ]
    },
    {
      "cell_type": "code",
      "execution_count": 5,
      "metadata": {
        "id": "CYaiyN3Jnklp"
      },
      "outputs": [
        {
          "data": {
            "text/plain": [
              "array([[1],\n",
              "       [0],\n",
              "       [1],\n",
              "       [0]])"
            ]
          },
          "metadata": {},
          "output_type": "display_data"
        },
        {
          "data": {
            "text/plain": [
              "array([[1.2]])"
            ]
          },
          "metadata": {},
          "output_type": "display_data"
        },
        {
          "data": {
            "text/plain": [
              "0.5"
            ]
          },
          "metadata": {},
          "output_type": "display_data"
        },
        {
          "data": {
            "text/plain": [
              "array([[0],\n",
              "       [1],\n",
              "       [0],\n",
              "       [1]])"
            ]
          },
          "metadata": {},
          "output_type": "display_data"
        }
      ],
      "source": [
        "display(x)\n",
        "display(w)\n",
        "display(bias)\n",
        "display(y)"
      ]
    },
    {
      "cell_type": "code",
      "execution_count": 6,
      "metadata": {
        "id": "CYibLbqtTFg8"
      },
      "outputs": [
        {
          "data": {
            "text/plain": [
              "array([[1.7],\n",
              "       [0.5],\n",
              "       [1.7],\n",
              "       [0.5]])"
            ]
          },
          "execution_count": 6,
          "metadata": {},
          "output_type": "execute_result"
        }
      ],
      "source": [
        "yhat = x@w+bias\n",
        "yhat"
      ]
    },
    {
      "cell_type": "code",
      "execution_count": 8,
      "metadata": {},
      "outputs": [
        {
          "data": {
            "text/plain": [
              "(4, 1)"
            ]
          },
          "execution_count": 8,
          "metadata": {},
          "output_type": "execute_result"
        }
      ],
      "source": [
        "## check our shape first\n",
        "yhat.shape"
      ]
    },
    {
      "cell_type": "code",
      "execution_count": null,
      "metadata": {},
      "outputs": [
        {
          "data": {
            "text/plain": [
              "array([[ 1.7],\n",
              "       [-0.5],\n",
              "       [ 1.7],\n",
              "       [-0.5]])"
            ]
          },
          "execution_count": 9,
          "metadata": {},
          "output_type": "execute_result"
        }
      ],
      "source": [
        "## element wise operation\n",
        "yhat - y"
      ]
    },
    {
      "cell_type": "code",
      "execution_count": 10,
      "metadata": {},
      "outputs": [
        {
          "data": {
            "text/plain": [
              "array([[2.89],\n",
              "       [0.25],\n",
              "       [2.89],\n",
              "       [0.25]])"
            ]
          },
          "execution_count": 10,
          "metadata": {},
          "output_type": "execute_result"
        }
      ],
      "source": [
        "## RSS\n",
        "(yhat - y)**2  "
      ]
    },
    {
      "cell_type": "code",
      "execution_count": 11,
      "metadata": {},
      "outputs": [
        {
          "data": {
            "text/plain": [
              "np.float64(6.279999999999999)"
            ]
          },
          "execution_count": 11,
          "metadata": {},
          "output_type": "execute_result"
        }
      ],
      "source": [
        "## make it a scalar value with np.sum()\n",
        "np.sum((yhat - y)**2)"
      ]
    },
    {
      "cell_type": "code",
      "execution_count": 7,
      "metadata": {
        "id": "lUcjnt4gS82m"
      },
      "outputs": [
        {
          "data": {
            "text/plain": [
              "[<matplotlib.lines.Line2D at 0x10c6a88e0>]"
            ]
          },
          "execution_count": 7,
          "metadata": {},
          "output_type": "execute_result"
        },
        {
          "data": {
            "image/png": "[encoded data removed]",
            "text/plain": [
              "<Figure size 800x600 with 1 Axes>"
            ]
          },
          "metadata": {},
          "output_type": "display_data"
        }
      ],
      "source": [
        "plt.figure(figsize = (8,6))\n",
        "sns.scatterplot(x=x.squeeze(), y=y.squeeze())\n",
        "plt.plot([x[0], x[-1]], [yhat[0], yhat[-1]], color='red',markerfacecolor='red',\n",
        "             markersize=10,linestyle='dashed')"
      ]
    },
    {
      "cell_type": "code",
      "execution_count": null,
      "metadata": {
        "id": "UApSRUFvTUNP"
      },
      "outputs": [],
      "source": []
    },
    {
      "cell_type": "markdown",
      "metadata": {
        "id": "9u843ml51kEd"
      },
      "source": [
        "# Gradient Descent Code"
      ]
    },
    {
      "cell_type": "code",
      "execution_count": null,
      "metadata": {
        "id": "5kCYp-r3n8dN"
      },
      "outputs": [],
      "source": [
        "def mse_loss_fxn(x, w, bias, y):\n",
        "  yhat = x@w+bias\n",
        "  if yhat.shape != y.shape:\n",
        "    print('shape mismatch!')\n",
        "  else:\n",
        "    mse = np.sum((x @ w + bias - y)**2)/y.shape[0]\n",
        "  return mse"
      ]
    },
    {
      "cell_type": "code",
      "execution_count": null,
      "metadata": {
        "id": "bgv2Gyr0jg80"
      },
      "outputs": [],
      "source": [
        "def bias_derivative(x, w, bias, y):\n",
        "  myderivative = np.sum(x @ w + bias - y)/y.shape[0] # x is a vector, w is a scalar and y is a vector\n",
        "  return myderivative"
      ]
    },
    {
      "cell_type": "code",
      "execution_count": null,
      "metadata": {
        "id": "rNbtKr4NkIT2"
      },
      "outputs": [],
      "source": [
        "def dependent_var_derivative(x, w, bias, y):\n",
        "  if x.shape[1] == 1:\n",
        "    if len(w.shape) != 2:\n",
        "      w = w.reshape(-1,1)\n",
        "    myderivative = np.sum(x.T @ (x @ w + bias - y))/y.shape[0] # x is a vector, w is a scalar and y is a vector\n",
        "    return myderivative\n",
        "  else:\n",
        "    print('x should be a vector of shape m,1 but found',x.shape)"
      ]
    },
    {
      "cell_type": "code",
      "execution_count": null,
      "metadata": {
        "id": "avjUZy4mlnNe"
      },
      "outputs": [],
      "source": [
        "def gradient_descent_update_dep_var(x, w, bias, y, alpha):\n",
        "  if len(w.shape) != 2:\n",
        "      w = w.reshape(-1,1)\n",
        "  w = w - alpha * (dependent_var_derivative(x, w, bias, y))\n",
        "  return w\n",
        "def gradient_descent_update_bias(x, w, bias, y, alpha):\n",
        "  bias = bias - alpha * (bias_derivative(x, w, bias, y))\n",
        "  return bias"
      ]
    },
    {
      "cell_type": "markdown",
      "metadata": {
        "id": "KqM2BPfD1rDS"
      },
      "source": [
        "# Testing our code"
      ]
    },
    {
      "cell_type": "code",
      "execution_count": null,
      "metadata": {
        "id": "aSGcaUrI3BYA"
      },
      "outputs": [],
      "source": [
        "display(x)\n",
        "display(w)\n",
        "display(bias)\n",
        "display(y)"
      ]
    },
    {
      "cell_type": "markdown",
      "metadata": {
        "id": "aK_ot3xQ1uXy"
      },
      "source": [
        "## 1st iteration"
      ]
    },
    {
      "cell_type": "code",
      "execution_count": null,
      "metadata": {
        "id": "eoM9rynloNJ5"
      },
      "outputs": [],
      "source": [
        "print('MSE = ',mse_loss_fxn(x, w, bias, y))"
      ]
    },
    {
      "cell_type": "code",
      "execution_count": null,
      "metadata": {
        "id": "DqFSWlfHnIqB"
      },
      "outputs": [],
      "source": [
        "w = gradient_descent_update_dep_var(x, w, bias, y, 0.01)\n",
        "print('Our new w = ', w)"
      ]
    },
    {
      "cell_type": "code",
      "execution_count": null,
      "metadata": {
        "id": "Y50i8FpWnRJA"
      },
      "outputs": [],
      "source": [
        "bias = gradient_descent_update_bias(x, w, bias, y, 0.01)\n",
        "print('Our new bias = ', bias)"
      ]
    },
    {
      "cell_type": "code",
      "execution_count": null,
      "metadata": {
        "id": "tPcHpT2aoWe8"
      },
      "outputs": [],
      "source": [
        "print('MSE = ',mse_loss_fxn(x, w, bias, y))"
      ]
    },
    {
      "cell_type": "markdown",
      "metadata": {
        "id": "kSWz3HLS1yLs"
      },
      "source": [
        "## 2nd iter"
      ]
    },
    {
      "cell_type": "code",
      "execution_count": null,
      "metadata": {
        "id": "OWI2wbinnU8z"
      },
      "outputs": [],
      "source": [
        "w = gradient_descent_update_dep_var(x, w, bias, y, 0.01)\n",
        "print('Our new w = ', w)"
      ]
    },
    {
      "cell_type": "code",
      "execution_count": null,
      "metadata": {
        "id": "AKiwRFsPnt9R"
      },
      "outputs": [],
      "source": [
        "bias = gradient_descent_update_bias(x, w, bias, y, 0.01)\n",
        "print('Our new bias = ', bias)"
      ]
    },
    {
      "cell_type": "code",
      "execution_count": null,
      "metadata": {
        "id": "2fIfgCNPoalG"
      },
      "outputs": [],
      "source": [
        "print('MSE = ',mse_loss_fxn(x, w, bias, y))"
      ]
    },
    {
      "cell_type": "markdown",
      "metadata": {
        "id": "ArMJ4efp11KF"
      },
      "source": [
        "## 3rd iter"
      ]
    },
    {
      "cell_type": "code",
      "execution_count": null,
      "metadata": {
        "id": "KEMaNt6onuXP"
      },
      "outputs": [],
      "source": [
        "w = gradient_descent_update_dep_var(x, w, bias, y, 0.01)\n",
        "print('Our new w = ', w)\n",
        "bias = gradient_descent_update_bias(x, w, bias, y, 0.01)\n",
        "print('Our new bias = ', bias)"
      ]
    },
    {
      "cell_type": "code",
      "execution_count": null,
      "metadata": {
        "id": "Bqjf9n7ioeCA"
      },
      "outputs": [],
      "source": [
        "print('MSE = ',mse_loss_fxn(x, w, bias, y))"
      ]
    },
    {
      "cell_type": "markdown",
      "metadata": {
        "id": "ukOrOycn2p0H"
      },
      "source": [
        "## 4th iter"
      ]
    },
    {
      "cell_type": "code",
      "execution_count": null,
      "metadata": {
        "id": "K49aoXUYoe84"
      },
      "outputs": [],
      "source": [
        "w = gradient_descent_update_dep_var(x, w, bias, y, 0.01)\n",
        "print('Our new w = ', w)\n",
        "bias = gradient_descent_update_bias(x, w, bias, y, 0.01)\n",
        "print('Our new bias = ', bias)"
      ]
    },
    {
      "cell_type": "code",
      "execution_count": null,
      "metadata": {
        "id": "_I3S_IswogYx"
      },
      "outputs": [],
      "source": [
        "print('MSE = ',mse_loss_fxn(x, w, bias, y))"
      ]
    },
    {
      "cell_type": "markdown",
      "metadata": {
        "id": "8SZmvwfJ2ryt"
      },
      "source": [
        "## Let's loop it!"
      ]
    },
    {
      "cell_type": "code",
      "execution_count": null,
      "metadata": {
        "id": "Wx9qccxBohr_"
      },
      "outputs": [],
      "source": [
        "for i in range(0, 20):\n",
        "  w = gradient_descent_update_dep_var(x, w, bias, y, 0.01)\n",
        "  print('new w =', w)\n",
        "  bias = gradient_descent_update_bias(x, w, bias, y, 0.01)\n",
        "  print('new bias =', bias)\n",
        "  print('new MSE =', mse_loss_fxn(x, w, bias, y))\n",
        "  print()"
      ]
    },
    {
      "cell_type": "code",
      "execution_count": null,
      "metadata": {
        "id": "CQVH6kio6w0U"
      },
      "outputs": [],
      "source": [
        "display(y)\n",
        "yhat = x@w+bias\n",
        "yhat"
      ]
    },
    {
      "cell_type": "code",
      "execution_count": null,
      "metadata": {
        "id": "I60X8M106w3Z"
      },
      "outputs": [],
      "source": [
        "plt.figure(figsize = (8,6))\n",
        "sns.scatterplot(x=x.squeeze(), y=y.squeeze())\n",
        "plt.plot([x[0], x[-1]], [yhat[0], yhat[-1]], color='red',markerfacecolor='red',\n",
        "             markersize=10,linestyle='dashed')"
      ]
    },
    {
      "cell_type": "code",
      "execution_count": null,
      "metadata": {
        "id": "JB4kZ10EJQLO"
      },
      "outputs": [],
      "source": []
    },
    {
      "cell_type": "markdown",
      "metadata": {
        "id": "3HAvOYne4ulA"
      },
      "source": [
        "## Participation block"
      ]
    },
    {
      "cell_type": "markdown",
      "metadata": {
        "id": "FijxJkVd405a"
      },
      "source": []
    },
    {
      "cell_type": "markdown",
      "metadata": {
        "id": "3ZzZz9b96xCR"
      },
      "source": [
        "# Reinitialize, loop and plot"
      ]
    },
    {
      "cell_type": "code",
      "execution_count": null,
      "metadata": {
        "id": "qBLBokc7oyhc"
      },
      "outputs": [],
      "source": [
        "# our variable init\n",
        "x = np.array([[1],[0],[1],[0]])\n",
        "bias = 0.5\n",
        "w = np.array([[1.2]]) # needs to be n,1\n",
        "y = np.array([[0],[1],[0],[1]])\n",
        "mylr = 0.001"
      ]
    },
    {
      "cell_type": "code",
      "execution_count": null,
      "metadata": {
        "id": "ltCevGvDpMfW"
      },
      "outputs": [],
      "source": [
        "for i in range(0, 20):\n",
        "  w = gradient_descent_update_dep_var(x, w, bias, y, mylr)\n",
        "  print('new w =', w)\n",
        "  bias = gradient_descent_update_bias(x, w, bias, y, mylr)\n",
        "  print('new bias =', bias)\n",
        "  print('new MSE =', mse_loss_fxn(x, w, bias, y))\n",
        "  print()"
      ]
    },
    {
      "cell_type": "code",
      "execution_count": null,
      "metadata": {
        "id": "8ZIOEu7q7N1e"
      },
      "outputs": [],
      "source": [
        "display(y)\n",
        "yhat = x@w+bias\n",
        "yhat"
      ]
    },
    {
      "cell_type": "code",
      "execution_count": null,
      "metadata": {
        "id": "dvo_TsDK7Oss"
      },
      "outputs": [],
      "source": [
        "plt.figure(figsize = (8,6))\n",
        "sns.scatterplot(x=x.squeeze(), y=y.squeeze())\n",
        "plt.plot(x.squeeze(), yhat.squeeze(), color='red', linestyle='dashed') # use squeeze instead"
      ]
    },
    {
      "cell_type": "markdown",
      "metadata": {
        "id": "9R0uxZMV7UiY"
      },
      "source": [
        "## Let's change our alpha"
      ]
    },
    {
      "cell_type": "code",
      "execution_count": null,
      "metadata": {
        "id": "4Gfy32e1pTSt"
      },
      "outputs": [],
      "source": [
        "# our variable init\n",
        "x = np.array([[1],[0],[1],[0]])\n",
        "bias = 0.5\n",
        "w = np.array([[1.2]]) # needs to be n,1\n",
        "#w = np.array([[-0.62]]) # needs to be n,1\n",
        "y = np.array([[0],[1],[0],[1]])\n",
        "mylr = 0.01\n",
        "iterations = 100"
      ]
    },
    {
      "cell_type": "code",
      "execution_count": null,
      "metadata": {
        "id": "5gu3n6pgSRD_"
      },
      "outputs": [],
      "source": [
        "display(y)\n",
        "yhat = x@w+bias\n",
        "yhat"
      ]
    },
    {
      "cell_type": "code",
      "execution_count": null,
      "metadata": {
        "id": "hDpgBJsT7S3x"
      },
      "outputs": [],
      "source": [
        "plt.figure(figsize = (8,6))\n",
        "sns.scatterplot(x=x.squeeze(), y=y.squeeze())\n",
        "plt.plot(x.squeeze(), yhat.squeeze(), color='red', linestyle='dashed') # use squeeze instead"
      ]
    },
    {
      "cell_type": "markdown",
      "metadata": {
        "id": "xmbx_mQw7E-L"
      },
      "source": [
        "# Learning time!"
      ]
    },
    {
      "cell_type": "code",
      "execution_count": null,
      "metadata": {
        "id": "poHVvrCIpTec"
      },
      "outputs": [],
      "source": [
        "# our variable init\n",
        "x = np.array([[1],[0],[1],[0]])\n",
        "bias = 0.5\n",
        "w = np.array([[1.2]]) # needs to be n,1\n",
        "#w = np.array([[-0.62]]) # needs to be n,1\n",
        "y = np.array([[0],[1],[0],[1]])\n",
        "mylr = 0.01\n",
        "iterations = 100\n",
        "\n",
        "weights = list()\n",
        "cost = list()\n",
        "biases  = list()\n",
        "my_mse = mse_loss_fxn(x, w, bias, y)\n",
        "print('Starting MSE =', my_mse)\n",
        "cost.append(my_mse)\n",
        "weights.append(w[0][0])\n",
        "biases.append(bias)\n",
        "for i in range(0, iterations):\n",
        "  w = gradient_descent_update_dep_var(x, w, bias, y, mylr)\n",
        "  weights.append(w[0][0])\n",
        "  print('new w =', w)\n",
        "  bias = gradient_descent_update_bias(x, w, bias, y, mylr)\n",
        "  biases.append(bias)\n",
        "  print('new bias =', bias)\n",
        "  my_mse = mse_loss_fxn(x, w, bias, y)\n",
        "  cost.append(my_mse)\n",
        "  print('new MSE =', my_mse)\n",
        "  print()"
      ]
    },
    {
      "cell_type": "code",
      "execution_count": null,
      "metadata": {
        "id": "NKUlHfvXQAsB"
      },
      "outputs": [],
      "source": [
        "g = sns.scatterplot(y = cost, x = weights)\n",
        "g.invert_xaxis()"
      ]
    },
    {
      "cell_type": "code",
      "execution_count": null,
      "metadata": {
        "id": "qdlYqN0kT8JQ"
      },
      "outputs": [],
      "source": [
        "yhat = x@w+bias\n",
        "display(yhat)\n",
        "plt.figure(figsize = (8,6))\n",
        "sns.scatterplot(x=x.squeeze(), y=y.squeeze())\n",
        "plt.plot(x.squeeze(), yhat.squeeze(), color='red', linestyle='dashed') # use squeeze instead"
      ]
    },
    {
      "cell_type": "code",
      "execution_count": null,
      "metadata": {
        "id": "vdR4kNsBQGZY"
      },
      "outputs": [],
      "source": [
        "cost"
      ]
    },
    {
      "cell_type": "code",
      "execution_count": null,
      "metadata": {
        "id": "nUkJ_6tNQa7N"
      },
      "outputs": [],
      "source": [
        "weights"
      ]
    },
    {
      "cell_type": "code",
      "execution_count": null,
      "metadata": {
        "id": "y7NpFo3XQgGd"
      },
      "outputs": [],
      "source": [
        "biases"
      ]
    },
    {
      "cell_type": "markdown",
      "metadata": {
        "id": "rR-lwRrYSTsC"
      },
      "source": [
        "# New dataset!"
      ]
    },
    {
      "cell_type": "code",
      "execution_count": null,
      "metadata": {
        "id": "nFPt7OF9SS9j"
      },
      "outputs": [],
      "source": [
        "# Dataset\n",
        "x = np.array([32.50234527, 53.42680403, 61.53035803, 47.47563963, 59.81320787,\n",
        "              55.14218841, 52.21179669, 39.29956669, 48.10504169, 52.55001444,\n",
        "              45.41973014, 54.35163488, 44.1640495 , 58.16847072, 56.72720806,\n",
        "              48.95588857, 44.68719623, 60.29732685, 45.61864377, 38.81681754]).reshape(-1, 1)\n",
        "\n",
        "y = np.array([31.70700585, 68.77759598, 62.5623823 , 71.54663223, 87.23092513,\n",
        "              78.21151827, 79.64197305, 59.17148932, 75.3312423 , 71.30087989,\n",
        "              55.16567715, 82.47884676, 62.00892325, 75.39287043, 81.43619216,\n",
        "              60.72360244, 82.89250373, 97.37989686, 48.84715332, 56.87721319]).reshape(-1, 1)\n",
        "\n",
        "# Initialize parameters\n",
        "w = np.random.randn(1, 1)\n",
        "bias = np.random.randn()\n",
        "\n",
        "# Hyperparameters\n",
        "mylr = 0.01\n",
        "iterations = 1000"
      ]
    },
    {
      "cell_type": "code",
      "execution_count": null,
      "metadata": {
        "id": "yF9nsIOMSavc"
      },
      "outputs": [],
      "source": [
        "# plot me\n",
        "sns.scatterplot(x=x.squeeze(), y=y.squeeze())"
      ]
    },
    {
      "cell_type": "code",
      "execution_count": null,
      "metadata": {
        "id": "_RA3QRRF4Gib"
      },
      "outputs": [],
      "source": [
        "weights = list()\n",
        "cost = list()\n",
        "biases  = list()\n",
        "my_mse = mse_loss_fxn(x, w, bias, y)\n",
        "print('Starting MSE =', my_mse)\n",
        "cost.append(my_mse)\n",
        "weights.append(w[0][0])\n",
        "biases.append(bias)\n",
        "for i in range(0, iterations):\n",
        "  for j in range(0, 5):\n",
        "    w = gradient_descent_update_dep_var(x, w, bias, y, mylr)\n",
        "    #print('new w =', w)\n",
        "    bias = gradient_descent_update_bias(x, w, bias, y, mylr)\n",
        "    #print('new bias =', bias)\n",
        "    print('new MSE =', mse_loss_fxn(x, w, bias, y))\n",
        "    #print()\n",
        "  yhat = x@w+bias\n",
        "  clear_output(wait=True)\n",
        "  plt.figure()\n",
        "  sns.scatterplot(x=x.squeeze(), y=y.squeeze())\n",
        "  plt.plot(x.squeeze(), yhat.squeeze(), color='red', linestyle='dashed') # use squeeze instead\n",
        "  plt.show()"
      ]
    },
    {
      "cell_type": "code",
      "execution_count": null,
      "metadata": {
        "id": "S8aylWSu4STG"
      },
      "outputs": [],
      "source": []
    },
    {
      "cell_type": "markdown",
      "metadata": {
        "id": "cYRqE8nM4W65"
      },
      "source": [
        "## Let's do it again"
      ]
    },
    {
      "cell_type": "code",
      "execution_count": null,
      "metadata": {
        "id": "eBEUP5Y_4V5D"
      },
      "outputs": [],
      "source": [
        "# Dataset\n",
        "x = np.array([32.50234527, 53.42680403, 61.53035803, 47.47563963, 59.81320787,\n",
        "              55.14218841, 52.21179669, 39.29956669, 48.10504169, 52.55001444,\n",
        "              45.41973014, 54.35163488, 44.1640495 , 58.16847072, 56.72720806,\n",
        "              48.95588857, 44.68719623, 60.29732685, 45.61864377, 38.81681754]).reshape(-1, 1)\n",
        "\n",
        "y = np.array([31.70700585, 68.77759598, 62.5623823 , 71.54663223, 87.23092513,\n",
        "              78.21151827, 79.64197305, 59.17148932, 75.3312423 , 71.30087989,\n",
        "              55.16567715, 82.47884676, 62.00892325, 75.39287043, 81.43619216,\n",
        "              60.72360244, 82.89250373, 97.37989686, 48.84715332, 56.87721319]).reshape(-1, 1)\n",
        "\n",
        "# Initialize parameters\n",
        "w = np.random.randn(1, 1)\n",
        "b = np.random.randn()\n",
        "\n",
        "# Hyperparameters\n",
        "learning_rate = 0.001\n",
        "num_iterations = 1000"
      ]
    },
    {
      "cell_type": "code",
      "execution_count": null,
      "metadata": {
        "id": "eT8mff5p4bLj"
      },
      "outputs": [],
      "source": []
    },
    {
      "cell_type": "code",
      "execution_count": null,
      "metadata": {
        "id": "fi5_6HW14bOd"
      },
      "outputs": [],
      "source": []
    },
    {
      "cell_type": "markdown",
      "metadata": {
        "id": "7jQRuKyf4-VH"
      },
      "source": [
        "## Participation block"
      ]
    },
    {
      "cell_type": "markdown",
      "metadata": {
        "id": "DAcNjdqi4-g1"
      },
      "source": []
    },
    {
      "cell_type": "code",
      "execution_count": null,
      "metadata": {
        "id": "IsnpzE6B4bRt"
      },
      "outputs": [],
      "source": []
    }
  ],
  "metadata": {
    "colab": {
      "collapsed_sections": [
        "s_pXms431fZZ",
        "9u843ml51kEd",
        "KqM2BPfD1rDS",
        "aK_ot3xQ1uXy",
        "kSWz3HLS1yLs",
        "ArMJ4efp11KF",
        "ukOrOycn2p0H",
        "8SZmvwfJ2ryt",
        "3HAvOYne4ulA",
        "3ZzZz9b96xCR",
        "xmbx_mQw7E-L",
        "cYRqE8nM4W65"
      ],
      "include_colab_link": true,
      "provenance": []
    },
    "kernelspec": {
      "display_name": "Python 3",
      "name": "python3"
    },
    "language_info": {
      "codemirror_mode": {
        "name": "ipython",
        "version": 3
      },
      "file_extension": ".py",
      "mimetype": "text/x-python",
      "name": "python",
      "nbconvert_exporter": "python",
      "pygments_lexer": "ipython3",
      "version": "3.9.6"
    }
  },
  "nbformat": 4,
  "nbformat_minor": 0
}
