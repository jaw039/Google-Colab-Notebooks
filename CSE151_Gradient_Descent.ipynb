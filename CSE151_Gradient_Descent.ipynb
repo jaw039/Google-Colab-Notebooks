{
  "nbformat": 4,
  "nbformat_minor": 0,
  "metadata": {
    "colab": {
      "provenance": [],
      "collapsed_sections": [
        "s_pXms431fZZ",
        "9u843ml51kEd",
        "KqM2BPfD1rDS",
        "aK_ot3xQ1uXy",
        "kSWz3HLS1yLs",
        "ArMJ4efp11KF",
        "ukOrOycn2p0H",
        "8SZmvwfJ2ryt",
        "3HAvOYne4ulA",
        "3ZzZz9b96xCR",
        "xmbx_mQw7E-L",
        "cYRqE8nM4W65"
      ],
      "include_colab_link": true
    },
    "kernelspec": {
      "name": "python3",
      "display_name": "Python 3"
    },
    "language_info": {
      "name": "python"
    }
  },
  "cells": [
    {
      "cell_type": "markdown",
      "metadata": {
        "id": "view-in-github",
        "colab_type": "text"
      },
      "source": [
        "<a href=\"https://colab.research.google.com/github/jaw039/Google-Colab-Notebooks/blob/main/CSE151_Gradient_Descent.ipynb\" target=\"_parent\"><img src=\"https://colab.research.google.com/assets/colab-badge.svg\" alt=\"Open In Colab\"/></a>"
      ]
    },
    {
      "cell_type": "code",
      "execution_count": null,
      "metadata": {
        "id": "8AIZuzGIjfD-"
      },
      "outputs": [],
      "source": [
        "import time\n",
        "import numpy as np\n",
        "import seaborn as sns\n",
        "import matplotlib.pyplot as plt\n",
        "from IPython.display import clear_output"
      ]
    },
    {
      "cell_type": "markdown",
      "source": [
        "# Data Exploration"
      ],
      "metadata": {
        "id": "s_pXms431fZZ"
      }
    },
    {
      "cell_type": "code",
      "source": [
        "# our variable init\n",
        "x = np.array([[1],[0],[1],[0]])\n",
        "bias = 0.5\n",
        "w = np.array([[1.2]]) # needs to be n,1\n",
        "y = np.array([[0],[1],[0],[1]])"
      ],
      "metadata": {
        "id": "1eCDqmdHka__"
      },
      "execution_count": null,
      "outputs": []
    },
    {
      "cell_type": "code",
      "source": [
        "display(x.shape)\n",
        "display(w.shape)\n",
        "display(y.shape)"
      ],
      "metadata": {
        "id": "H_w0YYUlkzcs"
      },
      "execution_count": null,
      "outputs": []
    },
    {
      "cell_type": "code",
      "source": [
        "display(x)\n",
        "display(w)\n",
        "display(bias)\n",
        "display(y)"
      ],
      "metadata": {
        "id": "CYaiyN3Jnklp"
      },
      "execution_count": null,
      "outputs": []
    },
    {
      "cell_type": "code",
      "source": [
        "yhat = x@w+bias\n",
        "yhat"
      ],
      "metadata": {
        "id": "CYibLbqtTFg8"
      },
      "execution_count": null,
      "outputs": []
    },
    {
      "cell_type": "code",
      "source": [
        "plt.figure(figsize = (8,6))\n",
        "sns.scatterplot(x=x.squeeze(), y=y.squeeze())\n",
        "plt.plot([x[0], x[-1]], [yhat[0], yhat[-1]], color='red',markerfacecolor='red',\n",
        "             markersize=10,linestyle='dashed')"
      ],
      "metadata": {
        "id": "lUcjnt4gS82m"
      },
      "execution_count": null,
      "outputs": []
    },
    {
      "cell_type": "code",
      "source": [],
      "metadata": {
        "id": "UApSRUFvTUNP"
      },
      "execution_count": null,
      "outputs": []
    },
    {
      "cell_type": "markdown",
      "source": [
        "# Gradient Descent Code"
      ],
      "metadata": {
        "id": "9u843ml51kEd"
      }
    },
    {
      "cell_type": "code",
      "source": [
        "def mse_loss_fxn(x, w, bias, y):\n",
        "  yhat = x@w+bias\n",
        "  if yhat.shape != y.shape:\n",
        "    print('shape mismatch!')\n",
        "  else:\n",
        "    mse = np.sum((x @ w + bias - y)**2)/y.shape[0]\n",
        "  return mse"
      ],
      "metadata": {
        "id": "5kCYp-r3n8dN"
      },
      "execution_count": null,
      "outputs": []
    },
    {
      "cell_type": "code",
      "source": [
        "def bias_derivative(x, w, bias, y):\n",
        "  myderivative = np.sum(x @ w + bias - y)/y.shape[0] # x is a vector, w is a scalar and y is a vector\n",
        "  return myderivative"
      ],
      "metadata": {
        "id": "bgv2Gyr0jg80"
      },
      "execution_count": null,
      "outputs": []
    },
    {
      "cell_type": "code",
      "source": [
        "def dependent_var_derivative(x, w, bias, y):\n",
        "  if x.shape[1] == 1:\n",
        "    if len(w.shape) != 2:\n",
        "      w = w.reshape(-1,1)\n",
        "    myderivative = np.sum(x.T @ (x @ w + bias - y))/y.shape[0] # x is a vector, w is a scalar and y is a vector\n",
        "    return myderivative\n",
        "  else:\n",
        "    print('x should be a vector of shape m,1 but found',x.shape)"
      ],
      "metadata": {
        "id": "rNbtKr4NkIT2"
      },
      "execution_count": null,
      "outputs": []
    },
    {
      "cell_type": "code",
      "source": [
        "def gradient_descent_update_dep_var(x, w, bias, y, alpha):\n",
        "  if len(w.shape) != 2:\n",
        "      w = w.reshape(-1,1)\n",
        "  w = w - alpha * (dependent_var_derivative(x, w, bias, y))\n",
        "  return w\n",
        "def gradient_descent_update_bias(x, w, bias, y, alpha):\n",
        "  bias = bias - alpha * (bias_derivative(x, w, bias, y))\n",
        "  return bias"
      ],
      "metadata": {
        "id": "avjUZy4mlnNe"
      },
      "execution_count": null,
      "outputs": []
    },
    {
      "cell_type": "markdown",
      "source": [
        "# Testing our code"
      ],
      "metadata": {
        "id": "KqM2BPfD1rDS"
      }
    },
    {
      "cell_type": "code",
      "source": [
        "display(x)\n",
        "display(w)\n",
        "display(bias)\n",
        "display(y)"
      ],
      "metadata": {
        "id": "aSGcaUrI3BYA"
      },
      "execution_count": null,
      "outputs": []
    },
    {
      "cell_type": "markdown",
      "source": [
        "## 1st iteration"
      ],
      "metadata": {
        "id": "aK_ot3xQ1uXy"
      }
    },
    {
      "cell_type": "code",
      "source": [
        "print('MSE = ',mse_loss_fxn(x, w, bias, y))"
      ],
      "metadata": {
        "id": "eoM9rynloNJ5"
      },
      "execution_count": null,
      "outputs": []
    },
    {
      "cell_type": "code",
      "source": [
        "w = gradient_descent_update_dep_var(x, w, bias, y, 0.01)\n",
        "print('Our new w = ', w)"
      ],
      "metadata": {
        "id": "DqFSWlfHnIqB"
      },
      "execution_count": null,
      "outputs": []
    },
    {
      "cell_type": "code",
      "source": [
        "bias = gradient_descent_update_bias(x, w, bias, y, 0.01)\n",
        "print('Our new bias = ', bias)"
      ],
      "metadata": {
        "id": "Y50i8FpWnRJA"
      },
      "execution_count": null,
      "outputs": []
    },
    {
      "cell_type": "code",
      "source": [
        "print('MSE = ',mse_loss_fxn(x, w, bias, y))"
      ],
      "metadata": {
        "id": "tPcHpT2aoWe8"
      },
      "execution_count": null,
      "outputs": []
    },
    {
      "cell_type": "markdown",
      "source": [
        "## 2nd iter"
      ],
      "metadata": {
        "id": "kSWz3HLS1yLs"
      }
    },
    {
      "cell_type": "code",
      "source": [
        "w = gradient_descent_update_dep_var(x, w, bias, y, 0.01)\n",
        "print('Our new w = ', w)"
      ],
      "metadata": {
        "id": "OWI2wbinnU8z"
      },
      "execution_count": null,
      "outputs": []
    },
    {
      "cell_type": "code",
      "source": [
        "bias = gradient_descent_update_bias(x, w, bias, y, 0.01)\n",
        "print('Our new bias = ', bias)"
      ],
      "metadata": {
        "id": "AKiwRFsPnt9R"
      },
      "execution_count": null,
      "outputs": []
    },
    {
      "cell_type": "code",
      "source": [
        "print('MSE = ',mse_loss_fxn(x, w, bias, y))"
      ],
      "metadata": {
        "id": "2fIfgCNPoalG"
      },
      "execution_count": null,
      "outputs": []
    },
    {
      "cell_type": "markdown",
      "source": [
        "## 3rd iter"
      ],
      "metadata": {
        "id": "ArMJ4efp11KF"
      }
    },
    {
      "cell_type": "code",
      "source": [
        "w = gradient_descent_update_dep_var(x, w, bias, y, 0.01)\n",
        "print('Our new w = ', w)\n",
        "bias = gradient_descent_update_bias(x, w, bias, y, 0.01)\n",
        "print('Our new bias = ', bias)"
      ],
      "metadata": {
        "id": "KEMaNt6onuXP"
      },
      "execution_count": null,
      "outputs": []
    },
    {
      "cell_type": "code",
      "source": [
        "print('MSE = ',mse_loss_fxn(x, w, bias, y))"
      ],
      "metadata": {
        "id": "Bqjf9n7ioeCA"
      },
      "execution_count": null,
      "outputs": []
    },
    {
      "cell_type": "markdown",
      "source": [
        "## 4th iter"
      ],
      "metadata": {
        "id": "ukOrOycn2p0H"
      }
    },
    {
      "cell_type": "code",
      "source": [
        "w = gradient_descent_update_dep_var(x, w, bias, y, 0.01)\n",
        "print('Our new w = ', w)\n",
        "bias = gradient_descent_update_bias(x, w, bias, y, 0.01)\n",
        "print('Our new bias = ', bias)"
      ],
      "metadata": {
        "id": "K49aoXUYoe84"
      },
      "execution_count": null,
      "outputs": []
    },
    {
      "cell_type": "code",
      "source": [
        "print('MSE = ',mse_loss_fxn(x, w, bias, y))"
      ],
      "metadata": {
        "id": "_I3S_IswogYx"
      },
      "execution_count": null,
      "outputs": []
    },
    {
      "cell_type": "markdown",
      "source": [
        "## Let's loop it!"
      ],
      "metadata": {
        "id": "8SZmvwfJ2ryt"
      }
    },
    {
      "cell_type": "code",
      "source": [
        "for i in range(0, 20):\n",
        "  w = gradient_descent_update_dep_var(x, w, bias, y, 0.01)\n",
        "  print('new w =', w)\n",
        "  bias = gradient_descent_update_bias(x, w, bias, y, 0.01)\n",
        "  print('new bias =', bias)\n",
        "  print('new MSE =', mse_loss_fxn(x, w, bias, y))\n",
        "  print()"
      ],
      "metadata": {
        "id": "Wx9qccxBohr_"
      },
      "execution_count": null,
      "outputs": []
    },
    {
      "cell_type": "code",
      "source": [
        "display(y)\n",
        "yhat = x@w+bias\n",
        "yhat"
      ],
      "metadata": {
        "id": "CQVH6kio6w0U"
      },
      "execution_count": null,
      "outputs": []
    },
    {
      "cell_type": "code",
      "source": [
        "plt.figure(figsize = (8,6))\n",
        "sns.scatterplot(x=x.squeeze(), y=y.squeeze())\n",
        "plt.plot([x[0], x[-1]], [yhat[0], yhat[-1]], color='red',markerfacecolor='red',\n",
        "             markersize=10,linestyle='dashed')"
      ],
      "metadata": {
        "id": "I60X8M106w3Z"
      },
      "execution_count": null,
      "outputs": []
    },
    {
      "cell_type": "code",
      "source": [],
      "metadata": {
        "id": "JB4kZ10EJQLO"
      },
      "execution_count": null,
      "outputs": []
    },
    {
      "cell_type": "markdown",
      "source": [
        "## Participation block"
      ],
      "metadata": {
        "id": "3HAvOYne4ulA"
      }
    },
    {
      "cell_type": "markdown",
      "source": [],
      "metadata": {
        "id": "FijxJkVd405a"
      }
    },
    {
      "cell_type": "markdown",
      "source": [
        "# Reinitialize, loop and plot"
      ],
      "metadata": {
        "id": "3ZzZz9b96xCR"
      }
    },
    {
      "cell_type": "code",
      "source": [
        "# our variable init\n",
        "x = np.array([[1],[0],[1],[0]])\n",
        "bias = 0.5\n",
        "w = np.array([[1.2]]) # needs to be n,1\n",
        "y = np.array([[0],[1],[0],[1]])\n",
        "mylr = 0.001"
      ],
      "metadata": {
        "id": "qBLBokc7oyhc"
      },
      "execution_count": null,
      "outputs": []
    },
    {
      "cell_type": "code",
      "source": [
        "for i in range(0, 20):\n",
        "  w = gradient_descent_update_dep_var(x, w, bias, y, mylr)\n",
        "  print('new w =', w)\n",
        "  bias = gradient_descent_update_bias(x, w, bias, y, mylr)\n",
        "  print('new bias =', bias)\n",
        "  print('new MSE =', mse_loss_fxn(x, w, bias, y))\n",
        "  print()"
      ],
      "metadata": {
        "id": "ltCevGvDpMfW"
      },
      "execution_count": null,
      "outputs": []
    },
    {
      "cell_type": "code",
      "source": [
        "display(y)\n",
        "yhat = x@w+bias\n",
        "yhat"
      ],
      "metadata": {
        "id": "8ZIOEu7q7N1e"
      },
      "execution_count": null,
      "outputs": []
    },
    {
      "cell_type": "code",
      "source": [
        "plt.figure(figsize = (8,6))\n",
        "sns.scatterplot(x=x.squeeze(), y=y.squeeze())\n",
        "plt.plot(x.squeeze(), yhat.squeeze(), color='red', linestyle='dashed') # use squeeze instead"
      ],
      "metadata": {
        "id": "dvo_TsDK7Oss"
      },
      "execution_count": null,
      "outputs": []
    },
    {
      "cell_type": "markdown",
      "source": [
        "## Let's change our alpha"
      ],
      "metadata": {
        "id": "9R0uxZMV7UiY"
      }
    },
    {
      "cell_type": "code",
      "source": [
        "# our variable init\n",
        "x = np.array([[1],[0],[1],[0]])\n",
        "bias = 0.5\n",
        "w = np.array([[1.2]]) # needs to be n,1\n",
        "#w = np.array([[-0.62]]) # needs to be n,1\n",
        "y = np.array([[0],[1],[0],[1]])\n",
        "mylr = 0.01\n",
        "iterations = 100"
      ],
      "metadata": {
        "id": "4Gfy32e1pTSt"
      },
      "execution_count": null,
      "outputs": []
    },
    {
      "cell_type": "code",
      "source": [
        "display(y)\n",
        "yhat = x@w+bias\n",
        "yhat"
      ],
      "metadata": {
        "id": "5gu3n6pgSRD_"
      },
      "execution_count": null,
      "outputs": []
    },
    {
      "cell_type": "code",
      "source": [
        "plt.figure(figsize = (8,6))\n",
        "sns.scatterplot(x=x.squeeze(), y=y.squeeze())\n",
        "plt.plot(x.squeeze(), yhat.squeeze(), color='red', linestyle='dashed') # use squeeze instead"
      ],
      "metadata": {
        "id": "hDpgBJsT7S3x"
      },
      "execution_count": null,
      "outputs": []
    },
    {
      "cell_type": "markdown",
      "source": [
        "# Learning time!"
      ],
      "metadata": {
        "id": "xmbx_mQw7E-L"
      }
    },
    {
      "cell_type": "code",
      "source": [
        "# our variable init\n",
        "x = np.array([[1],[0],[1],[0]])\n",
        "bias = 0.5\n",
        "w = np.array([[1.2]]) # needs to be n,1\n",
        "#w = np.array([[-0.62]]) # needs to be n,1\n",
        "y = np.array([[0],[1],[0],[1]])\n",
        "mylr = 0.01\n",
        "iterations = 100\n",
        "\n",
        "weights = list()\n",
        "cost = list()\n",
        "biases  = list()\n",
        "my_mse = mse_loss_fxn(x, w, bias, y)\n",
        "print('Starting MSE =', my_mse)\n",
        "cost.append(my_mse)\n",
        "weights.append(w[0][0])\n",
        "biases.append(bias)\n",
        "for i in range(0, iterations):\n",
        "  w = gradient_descent_update_dep_var(x, w, bias, y, mylr)\n",
        "  weights.append(w[0][0])\n",
        "  print('new w =', w)\n",
        "  bias = gradient_descent_update_bias(x, w, bias, y, mylr)\n",
        "  biases.append(bias)\n",
        "  print('new bias =', bias)\n",
        "  my_mse = mse_loss_fxn(x, w, bias, y)\n",
        "  cost.append(my_mse)\n",
        "  print('new MSE =', my_mse)\n",
        "  print()"
      ],
      "metadata": {
        "id": "poHVvrCIpTec"
      },
      "execution_count": null,
      "outputs": []
    },
    {
      "cell_type": "code",
      "source": [
        "g = sns.scatterplot(y = cost, x = weights)\n",
        "g.invert_xaxis()"
      ],
      "metadata": {
        "id": "NKUlHfvXQAsB"
      },
      "execution_count": null,
      "outputs": []
    },
    {
      "cell_type": "code",
      "source": [
        "yhat = x@w+bias\n",
        "display(yhat)\n",
        "plt.figure(figsize = (8,6))\n",
        "sns.scatterplot(x=x.squeeze(), y=y.squeeze())\n",
        "plt.plot(x.squeeze(), yhat.squeeze(), color='red', linestyle='dashed') # use squeeze instead"
      ],
      "metadata": {
        "id": "qdlYqN0kT8JQ"
      },
      "execution_count": null,
      "outputs": []
    },
    {
      "cell_type": "code",
      "source": [
        "cost"
      ],
      "metadata": {
        "id": "vdR4kNsBQGZY"
      },
      "execution_count": null,
      "outputs": []
    },
    {
      "cell_type": "code",
      "source": [
        "weights"
      ],
      "metadata": {
        "id": "nUkJ_6tNQa7N"
      },
      "execution_count": null,
      "outputs": []
    },
    {
      "cell_type": "code",
      "source": [
        "biases"
      ],
      "metadata": {
        "id": "y7NpFo3XQgGd"
      },
      "execution_count": null,
      "outputs": []
    },
    {
      "cell_type": "markdown",
      "source": [
        "# New dataset!"
      ],
      "metadata": {
        "id": "rR-lwRrYSTsC"
      }
    },
    {
      "cell_type": "code",
      "source": [
        "# Dataset\n",
        "x = np.array([32.50234527, 53.42680403, 61.53035803, 47.47563963, 59.81320787,\n",
        "              55.14218841, 52.21179669, 39.29956669, 48.10504169, 52.55001444,\n",
        "              45.41973014, 54.35163488, 44.1640495 , 58.16847072, 56.72720806,\n",
        "              48.95588857, 44.68719623, 60.29732685, 45.61864377, 38.81681754]).reshape(-1, 1)\n",
        "\n",
        "y = np.array([31.70700585, 68.77759598, 62.5623823 , 71.54663223, 87.23092513,\n",
        "              78.21151827, 79.64197305, 59.17148932, 75.3312423 , 71.30087989,\n",
        "              55.16567715, 82.47884676, 62.00892325, 75.39287043, 81.43619216,\n",
        "              60.72360244, 82.89250373, 97.37989686, 48.84715332, 56.87721319]).reshape(-1, 1)\n",
        "\n",
        "# Initialize parameters\n",
        "w = np.random.randn(1, 1)\n",
        "bias = np.random.randn()\n",
        "\n",
        "# Hyperparameters\n",
        "mylr = 0.01\n",
        "iterations = 1000"
      ],
      "metadata": {
        "id": "nFPt7OF9SS9j"
      },
      "execution_count": null,
      "outputs": []
    },
    {
      "cell_type": "code",
      "source": [
        "# plot me\n",
        "sns.scatterplot(x=x.squeeze(), y=y.squeeze())"
      ],
      "metadata": {
        "id": "yF9nsIOMSavc"
      },
      "execution_count": null,
      "outputs": []
    },
    {
      "cell_type": "code",
      "source": [
        "weights = list()\n",
        "cost = list()\n",
        "biases  = list()\n",
        "my_mse = mse_loss_fxn(x, w, bias, y)\n",
        "print('Starting MSE =', my_mse)\n",
        "cost.append(my_mse)\n",
        "weights.append(w[0][0])\n",
        "biases.append(bias)\n",
        "for i in range(0, iterations):\n",
        "  for j in range(0, 5):\n",
        "    w = gradient_descent_update_dep_var(x, w, bias, y, mylr)\n",
        "    #print('new w =', w)\n",
        "    bias = gradient_descent_update_bias(x, w, bias, y, mylr)\n",
        "    #print('new bias =', bias)\n",
        "    print('new MSE =', mse_loss_fxn(x, w, bias, y))\n",
        "    #print()\n",
        "  yhat = x@w+bias\n",
        "  clear_output(wait=True)\n",
        "  plt.figure()\n",
        "  sns.scatterplot(x=x.squeeze(), y=y.squeeze())\n",
        "  plt.plot(x.squeeze(), yhat.squeeze(), color='red', linestyle='dashed') # use squeeze instead\n",
        "  plt.show()"
      ],
      "metadata": {
        "id": "_RA3QRRF4Gib"
      },
      "execution_count": null,
      "outputs": []
    },
    {
      "cell_type": "code",
      "source": [],
      "metadata": {
        "id": "S8aylWSu4STG"
      },
      "execution_count": null,
      "outputs": []
    },
    {
      "cell_type": "markdown",
      "source": [
        "## Let's do it again"
      ],
      "metadata": {
        "id": "cYRqE8nM4W65"
      }
    },
    {
      "cell_type": "code",
      "source": [
        "# Dataset\n",
        "x = np.array([32.50234527, 53.42680403, 61.53035803, 47.47563963, 59.81320787,\n",
        "              55.14218841, 52.21179669, 39.29956669, 48.10504169, 52.55001444,\n",
        "              45.41973014, 54.35163488, 44.1640495 , 58.16847072, 56.72720806,\n",
        "              48.95588857, 44.68719623, 60.29732685, 45.61864377, 38.81681754]).reshape(-1, 1)\n",
        "\n",
        "y = np.array([31.70700585, 68.77759598, 62.5623823 , 71.54663223, 87.23092513,\n",
        "              78.21151827, 79.64197305, 59.17148932, 75.3312423 , 71.30087989,\n",
        "              55.16567715, 82.47884676, 62.00892325, 75.39287043, 81.43619216,\n",
        "              60.72360244, 82.89250373, 97.37989686, 48.84715332, 56.87721319]).reshape(-1, 1)\n",
        "\n",
        "# Initialize parameters\n",
        "w = np.random.randn(1, 1)\n",
        "b = np.random.randn()\n",
        "\n",
        "# Hyperparameters\n",
        "learning_rate = 0.001\n",
        "num_iterations = 1000"
      ],
      "metadata": {
        "id": "eBEUP5Y_4V5D"
      },
      "execution_count": null,
      "outputs": []
    },
    {
      "cell_type": "code",
      "source": [],
      "metadata": {
        "id": "eT8mff5p4bLj"
      },
      "execution_count": null,
      "outputs": []
    },
    {
      "cell_type": "code",
      "source": [],
      "metadata": {
        "id": "fi5_6HW14bOd"
      },
      "execution_count": null,
      "outputs": []
    },
    {
      "cell_type": "markdown",
      "source": [
        "## Participation block"
      ],
      "metadata": {
        "id": "7jQRuKyf4-VH"
      }
    },
    {
      "cell_type": "markdown",
      "source": [],
      "metadata": {
        "id": "DAcNjdqi4-g1"
      }
    },
    {
      "cell_type": "code",
      "source": [],
      "metadata": {
        "id": "IsnpzE6B4bRt"
      },
      "execution_count": null,
      "outputs": []
    }
  ]
}