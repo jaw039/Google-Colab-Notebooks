{
  "nbformat": 4,
  "nbformat_minor": 0,
  "metadata": {
    "colab": {
      "name": "OLS Linear Regression.ipynb",
      "provenance": [],
      "include_colab_link": true
    },
    "kernelspec": {
      "name": "python3",
      "display_name": "Python 3"
    }
  },
  "cells": [
    {
      "cell_type": "markdown",
      "metadata": {
        "id": "view-in-github",
        "colab_type": "text"
      },
      "source": [
        "<a href=\"https://colab.research.google.com/github/jaw039/Google-Colab-Notebooks/blob/main/OLS_Linear_Regression.ipynb\" target=\"_parent\"><img src=\"https://colab.research.google.com/assets/colab-badge.svg\" alt=\"Open In Colab\"/></a>"
      ]
    },
    {
      "metadata": {
        "id": "gd9Oozvpsbo0"
      },
      "cell_type": "markdown",
      "source": [
        "# Linear Regression"
      ]
    },
    {
      "metadata": {
        "id": "lxhJl45sscO7"
      },
      "cell_type": "markdown",
      "source": [
        "## What is Linear Regression?\n",
        "\n",
        "Linear Regression is a statistical model that seeks to describe the relationship between some y variable and one or more x variables.\n",
        "\n",
        "![Linear Regression](https://upload.wikimedia.org/wikipedia/commons/thumb/3/3a/Linear_regression.svg/1200px-Linear_regression.svg.png)\n",
        "\n",
        "In the simplest case, linear regression seeks to fit a straight line through a cloud of points. This line is referred to as the \"regression line\" or \"line of best fit.\" This line tries to summarize the relationship between our X and Y in a way that enables us to use the equation for that line to make predictions."
      ]
    },
    {
      "metadata": {
        "id": "IFV5-ugFaNY7"
      },
      "cell_type": "markdown",
      "source": [
        "### Synonyms for \"y variable\"\n",
        "\n",
        "- Dependent Variable\n",
        "- Response Variable\n",
        "- Outcome Variable\n",
        "- Predicted Variable\n",
        "- Measured Variable\n",
        "- Explained Variable\n",
        "- Label\n",
        "\n",
        "I'll try to stick to calling our y variable our \"dependent\" or \"predicted\" variable I think that make the most sense for us since we're seeing to use Linear Regression as a predictive model."
      ]
    },
    {
      "metadata": {
        "id": "Ib7RG23SaWzi"
      },
      "cell_type": "markdown",
      "source": [
        "### Synonyms for \"x variable(s)\"\n",
        "\n",
        "- Indepent Variable\n",
        "- Explanatory Variable\n",
        "- Regressor\n",
        "- Covariate\n",
        "\n",
        "I'll try to stick to \"explanatory variable\" or \"independent variable\" - or just \"x variable.\" All of these different terms just highlight a slightly different nuance of the roles these variables play.\n",
        "\n",
        "[Wikipedia Independent and Dependent Variables](https://en.wikipedia.org/wiki/Dependent_and_independent_variables)"
      ]
    },
    {
      "metadata": {
        "id": "N7fmbAWa0Ti3"
      },
      "cell_type": "markdown",
      "source": [
        "# Simple Linear Regresion (bivariate)\n",
        "\n",
        "## Making Predictions\n",
        "\n",
        "Say that we were trying to create a model that captured the relationship between temperature outside and ice cream sales. In Machine Learning our goal is often different that of other flavors of Linear Regression Analysis, because we're trying to fit a model to this data with the intention of making **predictions** on new data (in the future) that we don't have yet.\n",
        "\n",
        "## What are we trying to predict?\n",
        "\n",
        "So if we had measured ice cream sales and the temprature outside on 11 different days, at the end of our modeling **what would be the thing that we would want to predict? - Ice Cream Sales or Temperature?**\n",
        "\n",
        "We would probably want to be measuring temperature with the intention of using that to **forecast** ice cream sales. If we were able to successfully forecast ice cream sales from temperature, this might help us know beforehand how much ice cream to make or how many cones to buy or on which days to open our store, etc. Being able to make predictions accurately has a lot of business implications. This is why making accurate predictions is so valuable (And in large part is why data scientists are paid so well).\n",
        "\n",
        "### Y Variable Intuition\n",
        "\n",
        "We want the thing that we're trying to predict to serve as our **y** variable. This is why it's sometimes called the \"predicted variable.\" We call it the \"dependent\" variable because our prediction for how much ice cream we're going to sell \"depends\" on the temperature outside.\n",
        "\n",
        "### X Variable Intuition\n",
        "\n",
        "All other variables that we use to predict our y variable (we're going to start off just using one) we call our **x** variables. These are called our \"independent\" variables because they don't *depend* on y, they \"explain\" y. Hence they are also referred to as our \"explanatory\" variables."
      ]
    },
    {
      "metadata": {
        "id": "jFMZP9xBbqBv"
      },
      "cell_type": "markdown",
      "source": [
        "# Code Example using Scikit-Learn"
      ]
    },
    {
      "metadata": {
        "id": "SBOHBjwVzin_",
        "outputId": "664c5616-e49a-4501-f064-231e853cb384",
        "colab": {
          "base_uri": "https://localhost:8080/",
          "height": 403
        }
      },
      "cell_type": "code",
      "source": [
        "# Linear Regression Example\n",
        "123\n",
        "import pandas as pd\n",
        "import matplotlib.pyplot as plt\n",
        "\n",
        "df = pd.read_csv('https://raw.githubusercontent.com/ryanleeallred/datasets/master/Ice_Cream_Sales.csv')\n",
        "\n",
        "print(df.shape)\n",
        "df.head(11)"
      ],
      "execution_count": null,
      "outputs": [
        {
          "output_type": "stream",
          "text": [
            "(11, 2)\n"
          ],
          "name": "stdout"
        },
        {
          "output_type": "execute_result",
          "data": {
            "text/html": [
              "<div>\n",
              "<style scoped>\n",
              "    .dataframe tbody tr th:only-of-type {\n",
              "        vertical-align: middle;\n",
              "    }\n",
              "\n",
              "    .dataframe tbody tr th {\n",
              "        vertical-align: top;\n",
              "    }\n",
              "\n",
              "    .dataframe thead th {\n",
              "        text-align: right;\n",
              "    }\n",
              "</style>\n",
              "<table border=\"1\" class=\"dataframe\">\n",
              "  <thead>\n",
              "    <tr style=\"text-align: right;\">\n",
              "      <th></th>\n",
              "      <th>Farenheit</th>\n",
              "      <th>Dollars</th>\n",
              "    </tr>\n",
              "  </thead>\n",
              "  <tbody>\n",
              "    <tr>\n",
              "      <th>0</th>\n",
              "      <td>32</td>\n",
              "      <td>200</td>\n",
              "    </tr>\n",
              "    <tr>\n",
              "      <th>1</th>\n",
              "      <td>35</td>\n",
              "      <td>400</td>\n",
              "    </tr>\n",
              "    <tr>\n",
              "      <th>2</th>\n",
              "      <td>47</td>\n",
              "      <td>500</td>\n",
              "    </tr>\n",
              "    <tr>\n",
              "      <th>3</th>\n",
              "      <td>55</td>\n",
              "      <td>600</td>\n",
              "    </tr>\n",
              "    <tr>\n",
              "      <th>4</th>\n",
              "      <td>73</td>\n",
              "      <td>1100</td>\n",
              "    </tr>\n",
              "    <tr>\n",
              "      <th>5</th>\n",
              "      <td>78</td>\n",
              "      <td>1200</td>\n",
              "    </tr>\n",
              "    <tr>\n",
              "      <th>6</th>\n",
              "      <td>81</td>\n",
              "      <td>1500</td>\n",
              "    </tr>\n",
              "    <tr>\n",
              "      <th>7</th>\n",
              "      <td>86</td>\n",
              "      <td>1700</td>\n",
              "    </tr>\n",
              "    <tr>\n",
              "      <th>8</th>\n",
              "      <td>89</td>\n",
              "      <td>1800</td>\n",
              "    </tr>\n",
              "    <tr>\n",
              "      <th>9</th>\n",
              "      <td>90</td>\n",
              "      <td>1600</td>\n",
              "    </tr>\n",
              "    <tr>\n",
              "      <th>10</th>\n",
              "      <td>110</td>\n",
              "      <td>2000</td>\n",
              "    </tr>\n",
              "  </tbody>\n",
              "</table>\n",
              "</div>"
            ],
            "text/plain": [
              "    Farenheit  Dollars\n",
              "0          32      200\n",
              "1          35      400\n",
              "2          47      500\n",
              "3          55      600\n",
              "4          73     1100\n",
              "5          78     1200\n",
              "6          81     1500\n",
              "7          86     1700\n",
              "8          89     1800\n",
              "9          90     1600\n",
              "10        110     2000"
            ]
          },
          "metadata": {
            "tags": []
          },
          "execution_count": 1
        }
      ]
    },
    {
      "metadata": {
        "id": "1T8LZh6p3GBm",
        "outputId": "e7714986-1ac9-455a-8025-6b07faacdcd8",
        "colab": {
          "base_uri": "https://localhost:8080/",
          "height": 377
        }
      },
      "cell_type": "code",
      "source": [
        "plt.scatter(df.Farenheit, df.Dollars)\n",
        "plt.ylabel(\"Farenheit\")\n",
        "plt.xlabel(\"Dollars\")\n",
        "plt.title(\"Ice Cream Sales and Temperature\")\n",
        "plt.show()"
      ],
      "execution_count": null,
      "outputs": [
        {
          "output_type": "display_data",
          "data": {
            "image/png": "[encoded data removed]",
            "text/plain": [
              "<matplotlib.figure.Figure at 0x7f5ac16a3940>"
            ]
          },
          "metadata": {
            "tags": []
          }
        }
      ]
    },
    {
      "metadata": {
        "id": "e69sQKWE3a5e"
      },
      "cell_type": "markdown",
      "source": [
        "We can see from the scatterplot that these data points seem to follow a somewhat linear relationship. This means that we could probably summarize their relationship well by fitting a line of best fit to these points. Lets do it.\n",
        "\n",
        "\n",
        "## The Equation for a Line\n",
        "\n",
        "As we know a common equation for a line is:\n",
        "\n",
        "\\begin{align}\n",
        "y = mx + b\n",
        "\\end{align}\n",
        "\n",
        "Where $m$ is the slope of our line and $b$ is the y-intercept.\n",
        "\n",
        "If we want to plot a line through our cloud of points we figure out what these two values should be. Linear Regression seeks to **estimate** the slope and intercept values that describe a line that best fits the data points."
      ]
    },
    {
      "metadata": {
        "id": "cokVlU3n-_Se"
      },
      "cell_type": "markdown",
      "source": [
        "## Estimating Coefficients using Scikit-Learn\n",
        "\n",
        "Before we can pass our x and y values into Scikit-Learn we need our data to be the right shape. So we'll split them off into their own numpy arrays and make sure that they have the right dimensions before we pass them to sklearn. Making sure that your data is in the right shape for a particular function or algorithm to work with it is a constant pain point in data science, so you'll learn to rely on the documentation to learn what the function expects to receive.\n",
        "\n",
        "<https://stackoverflow.com/questions/29934083/linear-regression-on-pandas-dataframe-using-sci-kit-learn>"
      ]
    },
    {
      "metadata": {
        "id": "rgGAzCj-4J4q",
        "outputId": "df99f41f-add0-445c-8f2b-6c470bd868f4",
        "colab": {
          "base_uri": "https://localhost:8080/",
          "height": 52
        }
      },
      "cell_type": "code",
      "source": [
        "import numpy as np\n",
        "\n",
        "# Remember the convention of using a capital X for our x values and a lowercase y?\n",
        "# This is because typically we will have more than one x variable\n",
        "# and our X dataframe will be a matrix rather than a vector.\n",
        "\n",
        "X = df['Farenheit'].values[:, np.newaxis]\n",
        "y = df['Dollars'].values\n",
        "\n",
        "# Our data needs to have this shape to be accepted by sklearn\n",
        "print(X.shape)\n",
        "print(y.shape)"
      ],
      "execution_count": null,
      "outputs": [
        {
          "output_type": "stream",
          "text": [
            "(11, 1)\n",
            "(11,)\n"
          ],
          "name": "stdout"
        }
      ]
    },
    {
      "metadata": {
        "id": "Is8uO2It-S2i",
        "outputId": "ad61657b-a366-48fc-8566-3f4d99ed0b58",
        "colab": {
          "base_uri": "https://localhost:8080/",
          "height": 69
        }
      },
      "cell_type": "code",
      "source": [
        "from sklearn.linear_model import LinearRegression\n",
        "\n",
        "model = LinearRegression()\n",
        "model.fit(X, y)\n",
        "\n",
        "print(\"Slope Coefficient: \", model.coef_[0])\n",
        "print(\"\\nIntercept Value: \", model.intercept_)"
      ],
      "execution_count": null,
      "outputs": [
        {
          "output_type": "stream",
          "text": [
            "Slope Coefficient:  24.68849397414572\n",
            "\n",
            "Intercept Value:  -596.20648399428\n"
          ],
          "name": "stdout"
        }
      ]
    },
    {
      "metadata": {
        "id": "0GFGmax46o4N"
      },
      "cell_type": "markdown",
      "source": [
        "Now we can use these estimated values to plot our line of best fit.\n",
        "\n",
        "When we write \"predicted values\" in statistics we denote them by putting a caret symbol or \"hat\" over them to distinguish them from the variables representing our measured data."
      ]
    },
    {
      "metadata": {
        "id": "jkIDTS9S6rOM",
        "outputId": "0f6c8a19-eb10-4c19-d1f6-f83e510e52d8",
        "colab": {
          "base_uri": "https://localhost:8080/",
          "height": 377
        }
      },
      "cell_type": "code",
      "source": [
        "m_hat = regression.coef_[0]\n",
        "b_hat = regression.intercept_\n",
        "\n",
        "# Plot the points\n",
        "plt.scatter(df.Farenheit, df.Dollars)\n",
        "\n",
        "# Plot the line\n",
        "y_hat = [m_hat*x + b_hat for x in X]\n",
        "plt.plot(X, y_hat)\n",
        "\n",
        "# Graph axes and title\n",
        "plt.ylabel(\"Farenheit\")\n",
        "plt.xlabel(\"Dollars\")\n",
        "plt.title(\"Ice Cream Sales and Temperature\")\n",
        "plt.show()"
      ],
      "execution_count": null,
      "outputs": [
        {
          "output_type": "display_data",
          "data": {
            "image/png": "[encoded data removed]",
            "text/plain": [
              "<matplotlib.figure.Figure at 0x7f5abb4c7748>"
            ]
          },
          "metadata": {
            "tags": []
          }
        }
      ]
    },
    {
      "metadata": {
        "id": "p1ap7Eh6AHov"
      },
      "cell_type": "markdown",
      "source": [
        "## Making Predictions\n",
        "\n",
        "Now that we have established a line of best fit that summarizes the relationship that we see in the data, we can use the line of best fit in order to make predictions. How do we make predictions? We plug x values into our equation and see what the predicted y value is.\n",
        "\n",
        "Suppose that the weather forecast said that the temperature outside tomorrow was going to be 70 degrees Farenheit. What would we predict that our ice cream sales would be?"
      ]
    },
    {
      "metadata": {
        "id": "Pb1WGaG3A1wD",
        "outputId": "11f4e86b-fa77-4954-c140-0c354659193f",
        "colab": {
          "base_uri": "https://localhost:8080/",
          "height": 414
        }
      },
      "cell_type": "code",
      "source": [
        "# Make a single prediction for 70 degrees farenheit\n",
        "x_value = 70\n",
        "\n",
        "# Plug our temperature into our equation (model)\n",
        "prediction = m_hat*x_value + b_hat\n",
        "print(\"Prediction\", y_hat)\n",
        "\n",
        "# Plot the points\n",
        "plt.scatter(df.Farenheit, df.Dollars)\n",
        "\n",
        "# Plot the line\n",
        "y_hat = [m_hat*x + b_hat for x in X]\n",
        "plt.plot(X, y_hat)\n",
        "plt.plot(x_value, prediction, 'ro')\n",
        "\n",
        "# Graph axes and title\n",
        "plt.ylabel(\"Farenheit\")\n",
        "plt.xlabel(\"Dollars\")\n",
        "plt.title(\"Ice Cream Sales and Temperature\")\n",
        "plt.show()"
      ],
      "execution_count": null,
      "outputs": [
        {
          "output_type": "stream",
          "text": [
            "Prediction [array([193.82532318]), array([267.8908051]), array([564.15273279]), array([761.66068458]), array([1206.05357612]), array([1329.49604599]), array([1403.56152791]), array([1527.00399778]), array([1601.0694797]), array([1625.75797368]), array([2119.52785316])]\n"
          ],
          "name": "stdout"
        },
        {
          "output_type": "display_data",
          "data": {
            "image/png": "[encoded data removed]",
            "text/plain": [
              "<matplotlib.figure.Figure at 0x7f5abad26c50>"
            ]
          },
          "metadata": {
            "tags": []
          }
        }
      ]
    },
    {
      "metadata": {
        "id": "1Y6OP-_eCIJJ"
      },
      "cell_type": "markdown",
      "source": [
        "## Predicted Values\n",
        "\n",
        "You'll notice that our predicted point (red) lies on our line of best fit. The line of best fit represents all of the possible predictions that we could make given some x value. Points that represent our predictions that lie on the line of best fit are called \"predicted values\" or \"fitted values.\"\n",
        "\n",
        "## Residual Error\n",
        "\n",
        "The residual error is the distance between points in our dataset and our regression line. How would we calculate this? Well what if we made a prediction for an x value that we already had in our dataset? Lets make a prediction for 55 degrees Farenheit."
      ]
    },
    {
      "metadata": {
        "id": "z3pj39-NC79i",
        "outputId": "968b41fe-e5da-4004-c3aa-f6e5aebce71d",
        "colab": {
          "base_uri": "https://localhost:8080/",
          "height": 414
        }
      },
      "cell_type": "code",
      "source": [
        "# Make a single prediction for 70 degrees farenheit\n",
        "x_value = 55\n",
        "\n",
        "prediction = m_hat*x_value + b_hat\n",
        "print(\"Prediction\", y_hat)\n",
        "\n",
        "b_hat = regression.intercept_\n",
        "\n",
        "# Plot the points\n",
        "plt.scatter(df.Farenheit, df.Dollars)\n",
        "\n",
        "# Plot the line\n",
        "y_hat = [m_hat*x + b_hat for x in X]\n",
        "plt.plot(X, y_hat)\n",
        "plt.plot(x_value, prediction, 'ro')\n",
        "\n",
        "# Graph axes and title\n",
        "plt.ylabel(\"Farenheit\")\n",
        "plt.xlabel(\"Dollars\")\n",
        "plt.title(\"Ice Cream Sales and Temperature\")\n",
        "\n",
        "# Plot the error\n",
        "plt.arrow(55.2, 600, 0, 150, color='black')\n",
        "plt.show()"
      ],
      "execution_count": null,
      "outputs": [
        {
          "output_type": "stream",
          "text": [
            "Prediction [array([193.82532318]), array([267.8908051]), array([564.15273279]), array([761.66068458]), array([1206.05357612]), array([1329.49604599]), array([1403.56152791]), array([1527.00399778]), array([1601.0694797]), array([1625.75797368]), array([2119.52785316])]\n"
          ],
          "name": "stdout"
        },
        {
          "output_type": "display_data",
          "data": {
            "image/png": "[encoded data removed]",
            "text/plain": [
              "<matplotlib.figure.Figure at 0x7f5abab0ffd0>"
            ]
          },
          "metadata": {
            "tags": []
          }
        }
      ]
    },
    {
      "metadata": {
        "id": "yY-uXzHuC-ip"
      },
      "cell_type": "markdown",
      "source": [
        "See how we have both a predicted point and a measured point (from the data we collected) where x=55? The difference between these two points (or the distance betwen them) is what is called the ** residual error** - Sometimes just called the \"residual\". Some amount of error is unavoidable when making predictions, but we want our line of best fit to minimize this error (make it as small as possible). That's what makes it the line of best fit.\n",
        "\n",
        "# The Anatomy of Linear Regression\n",
        "\n",
        "- Intercept: The $b$ value in our line equation $y=mx+b$\n",
        "- Slope: The $m$ value in our line equation $y=mx+b$. These two values together define our regression line.\n",
        "\n",
        "![Slope and Intercept](http://www.ryanleeallred.com/wp-content/uploads/2018/08/linear-regression-diagram.png)\n",
        "\n",
        "- $\\hat{y}$ : A prediction\n",
        "- Line of Best Fit (Regression Line)\n",
        "- Predicted (fitted) Values: Points on our regression line\n",
        "- Observed Values: Points from our dataset\n",
        "- Error: The distance between predicted and observed values.\n",
        "\n",
        "![Residual Error](http://www.ryanleeallred.com/wp-content/uploads/2018/08/residual-or-error.gif)\n"
      ]
    },
    {
      "metadata": {
        "id": "0_qHxmXdRYad"
      },
      "cell_type": "markdown",
      "source": [
        "# More Formal Notation\n",
        "\n",
        "![Simple Linear Regression](http://www.ryanleeallred.com/wp-content/uploads/2018/08/simple-regression-formula.png)\n",
        "\n",
        "We have talked about a line of regression being represented like a regular line $y=mx+b$ but as we get to more complicated versions we're going to need to extend this equation. So lets establish the proper terminology.\n",
        "\n",
        "**X** - Independent Variable, predictor variable, explanatory variable, regressor, covariate\n",
        "\n",
        "**Y** - Response variable, predicted variable, measured vairable, explained variable, outcome variable\n",
        "\n",
        "$\\beta_0$ - \"Beta Naught\" or \"Beta Zero\", the intercept value. This is how much of y would exist if X were zero. This is sometimes represented by the letter \"a\" but I hate that. So it's \"Beta 0\" during my lecture.\n",
        "\n",
        "$\\beta_1$ - \"Beta One\" The primary coefficient of interest. This values is the slope of the line that is estimated by \"minimizing the sum of the squared errors/residuals\" - We'll get to that.\n",
        "\n",
        "$\\epsilon$ - \"Epsilon\" The \"error term\", random noise, things outside of our model that affect y."
      ]
    },
    {
      "metadata": {
        "id": "rc6oAx8wXR0p"
      },
      "cell_type": "markdown",
      "source": [
        "# How Does it do it?"
      ]
    },
    {
      "metadata": {
        "id": "7YbSAZXnW0uf"
      },
      "cell_type": "markdown",
      "source": [
        "## Minimizing the Sum of the Squared Error\n",
        "\n",
        "The most common method of estimating our $\\beta$ parameters  is what's known as \"Ordinary Least Squares\" (OLS). (There are different methods of arriving at a line of best fit). OLS estimates the parameters that minimize the squared distance between each point in our dataset and our line of best fit.\n",
        "\n",
        "\\begin{align}\n",
        "SSE = \\sum(y_i - \\hat{y})^2\n",
        "\\end{align}"
      ]
    },
    {
      "metadata": {
        "id": "G7OPGWkM_d9j"
      },
      "cell_type": "markdown",
      "source": [
        "## Linear Algebra!\n",
        "\n",
        "The same result that is found by minimizing the sum of the squared errors can be also found through a linear algebra process known as the \"Least Squares Solution:\"\n",
        "\n",
        "![OLS Regression](http://www.ryanleeallred.com/wp-content/uploads/2018/08/OLS-linear-algebra.png)\n",
        "\n",
        "Before we can work with this equation in its linear algebra form we have to understand how to set up the matrices that are involved in this equation."
      ]
    },
    {
      "metadata": {
        "id": "xoEWZNMiXFvI"
      },
      "cell_type": "markdown",
      "source": [
        "### $y$ Vector\n",
        "\n",
        "The $y$ vector is simple in that it's just a vector of all of our measured y values from our dataset.\n",
        "\n",
        "### The $X$ Matrix\n",
        "\n",
        "The $X$ matrix is a little bit more complicated since it needs to contain values that can be used to find both our slope and our intercept values. All that this means is that we have to add an extra column of 1s in addition to our regular columns of X values. Without this we wouldn't be able to computer our intercept value.\n",
        "\n",
        "### The $\\beta$ vector\n",
        "\n",
        "The $\\beta$ vector represents all the parameters that we are trying to estimate, our $y$ vector and $X$ matrix values are full of data from our dataset. The $\\beta$ vector holds the variables that we are solving for: $\\beta_0$ and $\\beta_1$\n",
        "\n",
        "Now that we have all of the necessary parts we can set them up in the following equation:\n",
        "\n",
        "\\begin{align}\n",
        "y = X \\beta + \\epsilon\n",
        "\\end{align}\n",
        "\n",
        "Since our $\\epsilon$ value represents **random** error we can assume that it will equal zero on average.\n",
        "\n",
        "\\begin{align}\n",
        "y = X \\beta\n",
        "\\end{align}\n",
        "\n",
        "The objective now is to isolate the $\\beta$ matrix. We can do this by pre-multiplying both sides by \"X transpose\" $X^{T}$.\n",
        "\n",
        "\\begin{align}\n",
        "X^{T}y =  X^{T}X \\beta\n",
        "\\end{align}\n",
        "\n",
        "Since anything times its transpose will result in a square matrix, if that matrix is then an invertible matrix, then we should be able to multiply both sides by its inverse to remove it from the right hand side. (We'll talk tomorrow about situations that could lead to $X^{T}X$ not being invertible.)\n",
        "\n",
        "\\begin{align}\n",
        "(X^{T}X)^{-1}X^{T}y =  (X^{T}X)^{-1}X^{T}X \\beta\n",
        "\\end{align}\n",
        "\n",
        "Since any matrix multiplied by its inverse results in the identity matrix, and anything multiplied by the identity matrix is itself, we are left with only $\\beta$ on the right hand side:\n",
        "\n",
        "\\begin{align}\n",
        "(X^{T}X)^{-1}X^{T}y = \\hat{\\beta}\n",
        "\\end{align}\n",
        "\n",
        "We will now call it \"beta hat\" $\\hat{\\beta}$ because it now represents our estimated values for $\\beta_0$ and $\\beta_1$"
      ]
    },
    {
      "metadata": {
        "id": "KLSyMFo6Yklk"
      },
      "cell_type": "markdown",
      "source": [
        "# Lets calculate our $\\beta$ coefficients with numpy!"
      ]
    },
    {
      "metadata": {
        "id": "-n15gFDEJrB4",
        "outputId": "7000fa13-e4b7-4815-f444-6b807773f9f5",
        "colab": {
          "base_uri": "https://localhost:8080/",
          "height": 572
        }
      },
      "cell_type": "code",
      "source": [
        "df['Ones'] = np.ones(11)\n",
        "\n",
        "## Get our X matrix and y vector in the correct shape\n",
        "X = df[['Ones', 'Farenheit']].as_matrix()\n",
        "Y = df['Dollars'].as_matrix().reshape(-1, 1)\n",
        "\n",
        "print(\"X: \\n\", X)\n",
        "\n",
        "X_transpose = X.T\n",
        "\n",
        "print(\"\\nX Transpose: \\n\", X_transpose)\n",
        "\n",
        "X_transpose_X = np.matmul(X_transpose, X)\n",
        "\n",
        "print(\"\\n X Transpose X \\n\", X_transpose_X)\n",
        "\n",
        "X_transpose_X_inverse = np.linalg.inv(X_transpose_X)\n",
        "\n",
        "print(\"\\n X Transpose X Inverse \\n\", X_transpose_X_inverse)\n",
        "\n",
        "X_transpose_Y = np.matmul(X_transpose, Y)\n",
        "\n",
        "print(\"\\n X Transpose Y \\n\", X_transpose_Y)\n",
        "\n",
        "beta_hat = np.matmul(X_transpose_X_inverse, X_transpose_Y)\n",
        "\n",
        "print(\"\\n Beta Hat \\n\", beta_hat)"
      ],
      "execution_count": null,
      "outputs": [
        {
          "output_type": "stream",
          "text": [
            "X: \n",
            " [[  1.  32.]\n",
            " [  1.  35.]\n",
            " [  1.  47.]\n",
            " [  1.  55.]\n",
            " [  1.  73.]\n",
            " [  1.  78.]\n",
            " [  1.  81.]\n",
            " [  1.  86.]\n",
            " [  1.  89.]\n",
            " [  1.  90.]\n",
            " [  1. 110.]]\n",
            "\n",
            "X Transpose: \n",
            " [[  1.   1.   1.   1.   1.   1.   1.   1.   1.   1.   1.]\n",
            " [ 32.  35.  47.  55.  73.  78.  81.  86.  89.  90. 110.]]\n",
            "\n",
            " X Transpose X \n",
            " [[1.1000e+01 7.7600e+02]\n",
            " [7.7600e+02 6.0974e+04]]\n",
            "\n",
            " X Transpose X Inverse \n",
            " [[ 8.89637865e-01 -1.13221862e-02]\n",
            " [-1.13221862e-02  1.60494908e-04]]\n",
            "\n",
            " X Transpose Y \n",
            " [[  12600.]\n",
            " [1042700.]]\n",
            "\n",
            " Beta Hat \n",
            " [[-596.20648399]\n",
            " [  24.68849397]]\n"
          ],
          "name": "stdout"
        }
      ]
    },
    {
      "metadata": {
        "id": "zgpAGz8thBAg"
      },
      "cell_type": "markdown",
      "source": [
        "# Multiple Regression\n",
        "\n",
        "Simple or bivariate linear regression involves a single $x$ variable and a single $y$ variable. However, we can have many $x$ variables. A linear regression model that involves multiple x variables is known as **Multiple** Regression - NOT MULTIVARIATE!\n",
        "\n",
        "![Multiple Regression](http://www.ryanleeallred.com/wp-content/uploads/2018/08/multiple-regression-model.png)"
      ]
    },
    {
      "metadata": {
        "id": "yYc_nQ1uhfjB"
      },
      "cell_type": "markdown",
      "source": [
        "## Question\n",
        "\n",
        "Simple linear regression uses an $X$ matrix with two colums (a column of ones for the intercept and a column of x values from our data). This achieves the result of plotting a line through a cloud of points. What if we had two $x$ features (also known as \"dimensions\")?\n",
        "\n",
        "## Lets try and see!\n",
        "\n",
        "In this example we will try to predict **systolic blood** pressure from **age** and **weight**\n",
        "\n",
        "$y$ = systolic blood pressure\n",
        "\n",
        "$age$ = age in years\n",
        "\n",
        "$weight$ = weight in pounds\n",
        "\n",
        "$y_i = \\beta_0 + \\beta_1age_i + \\beta_2weight_i + \\epsilon $"
      ]
    },
    {
      "metadata": {
        "id": "5RpYYe7MjhJI",
        "outputId": "7eb056a8-4942-4e33-ebde-644ca6394a94",
        "colab": {
          "base_uri": "https://localhost:8080/",
          "height": 237
        }
      },
      "cell_type": "code",
      "source": [
        "df = pd.read_excel('https://college.cengage.com/mathematics/brase/understandable_statistics/7e/students/datasets/mlr/excel/mlr02.xls')\n",
        "df = df.rename(index=str, columns={\"X1\": \"y\", \"X2\": \"age\", \"X3\": \"weight\"})\n",
        "print(df.shape)\n",
        "df.head()"
      ],
      "execution_count": null,
      "outputs": [
        {
          "output_type": "stream",
          "text": [
            "*** No CODEPAGE record, no encoding_override: will use 'ascii'\n",
            "(11, 3)\n"
          ],
          "name": "stdout"
        },
        {
          "output_type": "execute_result",
          "data": {
            "text/html": [
              "<div>\n",
              "<style scoped>\n",
              "    .dataframe tbody tr th:only-of-type {\n",
              "        vertical-align: middle;\n",
              "    }\n",
              "\n",
              "    .dataframe tbody tr th {\n",
              "        vertical-align: top;\n",
              "    }\n",
              "\n",
              "    .dataframe thead th {\n",
              "        text-align: right;\n",
              "    }\n",
              "</style>\n",
              "<table border=\"1\" class=\"dataframe\">\n",
              "  <thead>\n",
              "    <tr style=\"text-align: right;\">\n",
              "      <th></th>\n",
              "      <th>y</th>\n",
              "      <th>age</th>\n",
              "      <th>weight</th>\n",
              "    </tr>\n",
              "  </thead>\n",
              "  <tbody>\n",
              "    <tr>\n",
              "      <th>0</th>\n",
              "      <td>132</td>\n",
              "      <td>52</td>\n",
              "      <td>173</td>\n",
              "    </tr>\n",
              "    <tr>\n",
              "      <th>1</th>\n",
              "      <td>143</td>\n",
              "      <td>59</td>\n",
              "      <td>184</td>\n",
              "    </tr>\n",
              "    <tr>\n",
              "      <th>2</th>\n",
              "      <td>153</td>\n",
              "      <td>67</td>\n",
              "      <td>194</td>\n",
              "    </tr>\n",
              "    <tr>\n",
              "      <th>3</th>\n",
              "      <td>162</td>\n",
              "      <td>73</td>\n",
              "      <td>211</td>\n",
              "    </tr>\n",
              "    <tr>\n",
              "      <th>4</th>\n",
              "      <td>154</td>\n",
              "      <td>64</td>\n",
              "      <td>196</td>\n",
              "    </tr>\n",
              "  </tbody>\n",
              "</table>\n",
              "</div>"
            ],
            "text/plain": [
              "     y  age  weight\n",
              "0  132   52     173\n",
              "1  143   59     184\n",
              "2  153   67     194\n",
              "3  162   73     211\n",
              "4  154   64     196"
            ]
          },
          "metadata": {
            "tags": []
          },
          "execution_count": 76
        }
      ]
    },
    {
      "metadata": {
        "id": "j4VMpdGmln4X",
        "outputId": "bd4b3ea0-6329-47e1-cb6b-0808fb6f48fc",
        "colab": {
          "base_uri": "https://localhost:8080/",
          "height": 69
        }
      },
      "cell_type": "code",
      "source": [
        "# The Scikit-Learn code is the same every time.\n",
        "y = df.loc[:, ['y']].values\n",
        "X = df.loc[:, ['age','weight']].values\n",
        "\n",
        "model = LinearRegression()\n",
        "model.fit(X, y)\n",
        "\n",
        "\n",
        "beta_0 = model.intercept_\n",
        "beta_i = model.coef_[0]\n",
        "\n",
        "print(\"Slope Coefficients: \", beta_i)\n",
        "print(\"\\nIntercept Value: \", beta_0)"
      ],
      "execution_count": null,
      "outputs": [
        {
          "output_type": "stream",
          "text": [
            "Slope Coefficients:  [0.86141469 0.3348592 ]\n",
            "\n",
            "Intercept Value:  [30.99410295]\n"
          ],
          "name": "stdout"
        }
      ]
    },
    {
      "metadata": {
        "id": "mC7RCt5ongHp",
        "outputId": "ce166104-a863-4802-8b02-aa0c6b77298d",
        "colab": {
          "base_uri": "https://localhost:8080/",
          "height": 331
        }
      },
      "cell_type": "code",
      "source": [
        "from mpl_toolkits.mplot3d import Axes3D\n",
        "fig = plt.figure()\n",
        "ax = fig.add_subplot(111, projection='3d')\n",
        "\n",
        "# Plot Points on 3D plot\n",
        "ax.scatter(df['age'], df['weight'], df['y'],c='red')\n",
        "\n",
        "# Set axes to size of scatter data\n",
        "x1 = np.array(ax.get_xlim())\n",
        "y1 = np.array(ax.get_ylim())\n",
        "xx, yy = np.meshgrid(x1,y1)\n",
        "zz = beta_i[0]*xx + beta_i[1]*yy + beta_0[0]\n",
        "\n",
        "# Plot Plane\n",
        "plt3d = plt.gca(projection='3d')\n",
        "\n",
        "# Add Opacity to Plane\n",
        "plt3d.plot_surface(xx, yy, zz,alpha=0.5)\n",
        "plt.title(\"Regression Plane\")\n",
        "\n",
        "plt.show()"
      ],
      "execution_count": null,
      "outputs": [
        {
          "output_type": "display_data",
          "data": {
            "image/png": "[encoded data removed]",
            "text/plain": [
              "<matplotlib.figure.Figure at 0x7f5aba439f60>"
            ]
          },
          "metadata": {
            "tags": []
          }
        }
      ]
    },
    {
      "metadata": {
        "id": "DMMR770jqDAF"
      },
      "cell_type": "markdown",
      "source": [
        "# Dimensionality in Linear Regression!\n",
        "\n",
        "Muliple Regression is simply an extension of the bivariate case. The reason why we see the bivariate case demonstrated so often is simply because it's easier to graph and all of the intuition from the bivariate case is the same as we keep on adding explanatory variables.\n",
        "\n",
        "As we increase the number of $x$ values in our model we are simply fitting a n-1-dimensional plane to an n-dimensional cloud of points within an n-dimensional hypercube."
      ]
    },
    {
      "metadata": {
        "id": "gzxr8VY3raE8"
      },
      "cell_type": "markdown",
      "source": [
        "# Interpreting Coefficients\n",
        "\n",
        "One of Linear Regression's strengths is that the parameters of the model (coefficients) are readily interpretable and useful. Not only do they describe the relationship between x and y but they put a number on just how much x is associated with y. We should be careful to not speak about this relationshiop in terms of causality because these coefficients are in fact correlative measures. We would need a host of additional techniques in order to estimate a causal effect using linear regression (econometrics).\n",
        "\n",
        "\\begin{align}\n",
        "\\hat{\\beta} = \\frac{Cov(x,y)}{Var(y)}\n",
        "\\end{align}\n",
        "\n",
        "Going back to the two equations for the two models that we have estimated so far, lets replace their beta values with their actual values to see if we can make sense of how to interpret these beta coefficients."
      ]
    },
    {
      "metadata": {
        "id": "3Lh7R_J1uDcv"
      },
      "cell_type": "markdown",
      "source": [
        "## Bivariate Model\n",
        "\n",
        "$y_i = \\beta_0 + \\beta_1temperature + \\epsilon$\n",
        "\n",
        "$sales_i = -596.2 + 24.69temperature + \\epsilon$\n",
        "\n",
        "What might $\\beta_0$ in this model represent? It represents the level of sales that we would have if temperature were 0. Since this is negative one way of interpreting it is that it's so cold outside that you would have to pay people to eat ice cream. A more appropriate interpretation is probably that the ice cream store owner should close his store down long before the temperature reaches 0 degrees farenheit (-17.7 celsius). The owner can compare his predicted sales with his costs of doing business to know how warm the weather has to get before he should open his store.\n",
        "\n",
        "What might the $beta_1$ in this model reprsent? it represents the increase in sales for each degree of temperature increase. For every degree that the temperature goes up outside he has $25 more in sales."
      ]
    },
    {
      "metadata": {
        "id": "_kExtuKkuDnX"
      },
      "cell_type": "markdown",
      "source": [
        "## Multiple Regression Model\n",
        "\n",
        "$y_i = \\beta_0 + \\beta_1age_i + \\beta_2weight_i + \\epsilon$\n",
        "\n",
        "$BloodPressure_i = 30.99+ .86age_i + .33weight_i + \\epsilon$\n",
        "\n",
        "The interpretation of coefficients in this example are similar. The intercept value repesents the blood pressure a person would have if they were 0 years old and weighed 0 pounds. This not a super useful interpretation. If we look at our data it is unlikely that we have any measurements like these in the dataset. This means that our interpretation of our intercept likely comes from extrapolating the regression line (plane). Coefficients having straightforward interpretations is a strength of linear regression if we're careful about extrapolation and only interpreting our data within the context that it was gathered.\n",
        "\n",
        "The interpretation of our other coefficients can be a useful indicator for how much a person similar to those in our dataset's blood pressure will go up on average with each additional year of age and pound of weight."
      ]
    },
    {
      "metadata": {
        "id": "B9CqMOnmgvh6"
      },
      "cell_type": "markdown",
      "source": [
        "# R Squared:  $R^2$\n",
        "\n",
        "One final attribute of linear regressions that we're going to talk about today is a measure of goodness of fit known as $R^2$ or R-squared. $R^2$ is a statistical measure of how close the data are fitted to our regression line. A helpful interpretation for the $R^2$ is the percentage of the dependent variable that is explained by the model.\n",
        "\n",
        "In other words, the $R^2$ is the percentage of y that is explained by the x variables included in the model. For this reason the $R^2$ is also known as the \"coefficient of determination,\" because it explains how much of y is explained (or determined) by our x varaibles. We won't go into the calculation of $R^2$ today, just know that a higher $R^2$ percentage is nearly always better and indicates a model that fits the data more closely."
      ]
    },
    {
      "metadata": {
        "id": "mDANtA28kvq3"
      },
      "cell_type": "markdown",
      "source": [
        "# Basic Model Validation\n",
        "\n",
        "One of the downsides of relying on $R^2$ too much is that although it tells you when you're fitting the data well, it doesn't tell you when you're *overfitting* the data. The best way to tell if you're overfitting the data is to get some data that your model hasn't seen yet, and evaluate how your predictions do. This is essentially what \"model validation\" is."
      ]
    },
    {
      "metadata": {
        "id": "lmuEaM1IyvMk"
      },
      "cell_type": "markdown",
      "source": [
        "## Steps of Basic Model Validation\n",
        "\n",
        "1) Split your labeled data into two halves.\n",
        "\n",
        "2) Fit your linear regression model to one of the two halves. (We'll call this the training dataset)\n",
        "\n",
        "3) Run the second half of your data through your model and make predictions. (On the test dataset)\n",
        "\n",
        "4) Compare your predictions with the true values via some measure of \"accuracy.\" (Root Mean Squared Error)"
      ]
    },
    {
      "metadata": {
        "id": "xUstn423AVJh"
      },
      "cell_type": "markdown",
      "source": [
        "# An Example using the Boston Housing Dataset"
      ]
    },
    {
      "metadata": {
        "id": "-iObo3ZFyuDu"
      },
      "cell_type": "code",
      "source": [
        "# http://lib.stat.cmu.edu/datasets/boston"
      ],
      "execution_count": null,
      "outputs": []
    },
    {
      "metadata": {
        "id": "AZIHqdfascQ7"
      },
      "cell_type": "markdown",
      "source": [
        "# Why is Linear Regression so Important?\n",
        "\n",
        "## Popularity\n",
        "\n",
        "Linear Regression is an extremely popular technique that every data scientist **needs** to understand. It's not the most advanced technique and there are supervised learning techniques that will obtain a higher accuracy, but where it lacks in accuracy it makes up for it in interpretability and simplicity.\n",
        "\n",
        "## Interpretability\n",
        "\n",
        "Few other models possess coefficients that are so directly linked to their variables with a such a clear interpretation. Tomorrow we're going to learn about ways to make them even easier to interpret.\n",
        "\n",
        "## Simplicity\n",
        "\n",
        "A linear regression model can be communicated just by writing out its equation. It's kind of incredible that such high dimensional relationships can be described from just a linear combination of variables and coefficients.\n",
        "\n",
        "\n",
        "\n"
      ]
    },
    {
      "metadata": {
        "id": "THK1qNxRGr4L"
      },
      "cell_type": "markdown",
      "source": [
        "Is Linear Regression Supervised or Unsupervised learning?\n",
        "\n",
        "Is Linear Regression a Classification or Regression algorithm?"
      ]
    }
  ]
}