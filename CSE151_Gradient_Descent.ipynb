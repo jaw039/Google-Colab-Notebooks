{
  "cells": [
    {
      "cell_type": "markdown",
      "metadata": {
        "colab_type": "text",
        "id": "view-in-github"
      },
      "source": [
        "<a href=\"https://colab.research.google.com/github/jaw039/Google-Colab-Notebooks/blob/main/CSE151_Gradient_Descent.ipynb\" target=\"_parent\"><img src=\"https://colab.research.google.com/assets/colab-badge.svg\" alt=\"Open In Colab\"/></a>"
      ]
    },
    {
      "cell_type": "code",
      "execution_count": 1,
      "metadata": {
        "id": "8AIZuzGIjfD-"
      },
      "outputs": [],
      "source": [
        "import time\n",
        "import numpy as np\n",
        "import seaborn as sns\n",
        "import matplotlib.pyplot as plt\n",
        "from IPython.display import clear_output"
      ]
    },
    {
      "cell_type": "markdown",
      "metadata": {
        "id": "s_pXms431fZZ"
      },
      "source": [
        "# Data Exploration"
      ]
    },
    {
      "cell_type": "code",
      "execution_count": 2,
      "metadata": {
        "id": "1eCDqmdHka__"
      },
      "outputs": [],
      "source": [
        "# our variable init\n",
        "x = np.array([[1],[0],[1],[0]])\n",
        "bias = 0.5\n",
        "w = np.array([[1.2]]) # needs to be n,1\n",
        "y = np.array([[0],[1],[0],[1]])"
      ]
    },
    {
      "cell_type": "code",
      "execution_count": 3,
      "metadata": {
        "id": "H_w0YYUlkzcs"
      },
      "outputs": [
        {
          "data": {
            "text/plain": [
              "(4, 1)"
            ]
          },
          "metadata": {},
          "output_type": "display_data"
        },
        {
          "data": {
            "text/plain": [
              "(1, 1)"
            ]
          },
          "metadata": {},
          "output_type": "display_data"
        },
        {
          "data": {
            "text/plain": [
              "(4, 1)"
            ]
          },
          "metadata": {},
          "output_type": "display_data"
        }
      ],
      "source": [
        "display(x.shape)\n",
        "display(w.shape)\n",
        "display(y.shape)"
      ]
    },
    {
      "cell_type": "code",
      "execution_count": 4,
      "metadata": {
        "id": "CYaiyN3Jnklp"
      },
      "outputs": [
        {
          "data": {
            "text/plain": [
              "array([[1],\n",
              "       [0],\n",
              "       [1],\n",
              "       [0]])"
            ]
          },
          "metadata": {},
          "output_type": "display_data"
        },
        {
          "data": {
            "text/plain": [
              "array([[1.2]])"
            ]
          },
          "metadata": {},
          "output_type": "display_data"
        },
        {
          "data": {
            "text/plain": [
              "0.5"
            ]
          },
          "metadata": {},
          "output_type": "display_data"
        },
        {
          "data": {
            "text/plain": [
              "array([[0],\n",
              "       [1],\n",
              "       [0],\n",
              "       [1]])"
            ]
          },
          "metadata": {},
          "output_type": "display_data"
        }
      ],
      "source": [
        "display(x)\n",
        "display(w)\n",
        "display(bias)\n",
        "display(y)"
      ]
    },
    {
      "cell_type": "code",
      "execution_count": 5,
      "metadata": {
        "id": "CYibLbqtTFg8"
      },
      "outputs": [
        {
          "data": {
            "text/plain": [
              "array([[1.7],\n",
              "       [0.5],\n",
              "       [1.7],\n",
              "       [0.5]])"
            ]
          },
          "execution_count": 5,
          "metadata": {},
          "output_type": "execute_result"
        }
      ],
      "source": [
        "yhat = x@w+bias\n",
        "yhat"
      ]
    },
    {
      "cell_type": "code",
      "execution_count": 6,
      "metadata": {},
      "outputs": [
        {
          "data": {
            "text/plain": [
              "(4, 1)"
            ]
          },
          "execution_count": 6,
          "metadata": {},
          "output_type": "execute_result"
        }
      ],
      "source": [
        "## check our shape first\n",
        "yhat.shape"
      ]
    },
    {
      "cell_type": "code",
      "execution_count": 7,
      "metadata": {},
      "outputs": [
        {
          "data": {
            "text/plain": [
              "array([[ 1.7],\n",
              "       [-0.5],\n",
              "       [ 1.7],\n",
              "       [-0.5]])"
            ]
          },
          "execution_count": 7,
          "metadata": {},
          "output_type": "execute_result"
        }
      ],
      "source": [
        "## element wise operation\n",
        "yhat - y"
      ]
    },
    {
      "cell_type": "code",
      "execution_count": 8,
      "metadata": {},
      "outputs": [
        {
          "data": {
            "text/plain": [
              "array([[2.89],\n",
              "       [0.25],\n",
              "       [2.89],\n",
              "       [0.25]])"
            ]
          },
          "execution_count": 8,
          "metadata": {},
          "output_type": "execute_result"
        }
      ],
      "source": [
        "## RSS\n",
        "(yhat - y)**2  "
      ]
    },
    {
      "cell_type": "code",
      "execution_count": 9,
      "metadata": {},
      "outputs": [
        {
          "data": {
            "text/plain": [
              "np.float64(6.279999999999999)"
            ]
          },
          "execution_count": 9,
          "metadata": {},
          "output_type": "execute_result"
        }
      ],
      "source": [
        "## make it a scalar value with np.sum()\n",
        "np.sum((yhat - y)**2)"
      ]
    },
    {
      "cell_type": "code",
      "execution_count": 10,
      "metadata": {
        "id": "lUcjnt4gS82m"
      },
      "outputs": [
        {
          "data": {
            "text/plain": [
              "[<matplotlib.lines.Line2D at 0x107999880>]"
            ]
          },
          "execution_count": 10,
          "metadata": {},
          "output_type": "execute_result"
        },
        {
          "data": {
            "image/png": "[encoded data removed]",
            "text/plain": [
              "<Figure size 800x600 with 1 Axes>"
            ]
          },
          "metadata": {},
          "output_type": "display_data"
        }
      ],
      "source": [
        "plt.figure(figsize = (8,6))\n",
        "sns.scatterplot(x=x.squeeze(), y=y.squeeze())\n",
        "plt.plot([x[0], x[-1]], [yhat[0], yhat[-1]], color='red',markerfacecolor='red',\n",
        "             markersize=10,linestyle='dashed')"
      ]
    },
    {
      "cell_type": "markdown",
      "metadata": {
        "id": "9u843ml51kEd"
      },
      "source": [
        "# Gradient Descent Code"
      ]
    },
    {
      "cell_type": "code",
      "execution_count": 11,
      "metadata": {
        "id": "5kCYp-r3n8dN"
      },
      "outputs": [],
      "source": [
        "def mse_loss_fxn(x, w, bias, y):\n",
        "  yhat = x@w+bias\n",
        "  if yhat.shape != y.shape:\n",
        "    print('shape mismatch!')\n",
        "  else:\n",
        "    mse = np.sum((x @ w + bias - y)**2)/y.shape[0]\n",
        "  return mse"
      ]
    },
    {
      "cell_type": "code",
      "execution_count": 12,
      "metadata": {
        "id": "bgv2Gyr0jg80"
      },
      "outputs": [],
      "source": [
        "def bias_derivative(x, w, bias, y):\n",
        "  myderivative = np.sum(x @ w + bias - y)/y.shape[0] # x is a vector, w is a scalar and y is a vector\n",
        "  return myderivative"
      ]
    },
    {
      "cell_type": "code",
      "execution_count": null,
      "metadata": {
        "id": "rNbtKr4NkIT2"
      },
      "outputs": [],
      "source": [
        "def dependent_var_derivative(x, w, bias, y):\n",
        "  if x.shape[1] == 1:\n",
        "    if len(w.shape) != 2:\n",
        "      w = w.reshape(-1,1)\n",
        "    myderivative = np.sum(x.T @ (x @ w + bias - y))/y.shape[0] # x is a vector, w is a scalar and y is a vector\n",
        "    return myderivative\n",
        "  else:\n",
        "    print('x should be a vector of shape m,1 but found',xa.shape)"
      ]
    },
    {
      "cell_type": "code",
      "execution_count": 14,
      "metadata": {
        "id": "avjUZy4mlnNe"
      },
      "outputs": [],
      "source": [
        "def gradient_descent_update_dep_var(x, w, bias, y, alpha):\n",
        "  if len(w.shape) != 2:\n",
        "      w = w.reshape(-1,1)\n",
        "  w = w - alpha * (dependent_var_derivative(x, w, bias, y))\n",
        "  return w\n",
        "def gradient_descent_update_bias(x, w, bias, y, alpha):\n",
        "  bias = bias - alpha * (bias_derivative(x, w, bias, y))\n",
        "  return bias"
      ]
    },
    {
      "cell_type": "markdown",
      "metadata": {
        "id": "KqM2BPfD1rDS"
      },
      "source": [
        "# Testing our code"
      ]
    },
    {
      "cell_type": "code",
      "execution_count": 15,
      "metadata": {
        "id": "aSGcaUrI3BYA"
      },
      "outputs": [
        {
          "data": {
            "text/plain": [
              "array([[1],\n",
              "       [0],\n",
              "       [1],\n",
              "       [0]])"
            ]
          },
          "metadata": {},
          "output_type": "display_data"
        },
        {
          "data": {
            "text/plain": [
              "array([[1.2]])"
            ]
          },
          "metadata": {},
          "output_type": "display_data"
        },
        {
          "data": {
            "text/plain": [
              "0.5"
            ]
          },
          "metadata": {},
          "output_type": "display_data"
        },
        {
          "data": {
            "text/plain": [
              "array([[0],\n",
              "       [1],\n",
              "       [0],\n",
              "       [1]])"
            ]
          },
          "metadata": {},
          "output_type": "display_data"
        }
      ],
      "source": [
        "display(x)\n",
        "display(w)\n",
        "display(bias)\n",
        "display(y)"
      ]
    },
    {
      "cell_type": "markdown",
      "metadata": {
        "id": "aK_ot3xQ1uXy"
      },
      "source": [
        "## 1st iteration"
      ]
    },
    {
      "cell_type": "code",
      "execution_count": 16,
      "metadata": {
        "id": "eoM9rynloNJ5"
      },
      "outputs": [
        {
          "name": "stdout",
          "output_type": "stream",
          "text": [
            "MSE =  1.5699999999999998\n"
          ]
        }
      ],
      "source": [
        "print('MSE = ',mse_loss_fxn(x, w, bias, y))"
      ]
    },
    {
      "cell_type": "code",
      "execution_count": 17,
      "metadata": {
        "id": "DqFSWlfHnIqB"
      },
      "outputs": [
        {
          "name": "stdout",
          "output_type": "stream",
          "text": [
            "Our new w =  [[1.1915]]\n"
          ]
        }
      ],
      "source": [
        "w = gradient_descent_update_dep_var(x, w, bias, y, 0.01)\n",
        "print('Our new w = ', w)"
      ]
    },
    {
      "cell_type": "code",
      "execution_count": 18,
      "metadata": {
        "id": "Y50i8FpWnRJA"
      },
      "outputs": [
        {
          "name": "stdout",
          "output_type": "stream",
          "text": [
            "Our new bias =  0.4940425\n"
          ]
        }
      ],
      "source": [
        "bias = gradient_descent_update_bias(x, w, bias, y, 0.01)\n",
        "print('Our new bias = ', bias)"
      ]
    },
    {
      "cell_type": "code",
      "execution_count": 19,
      "metadata": {
        "id": "tPcHpT2aoWe8"
      },
      "outputs": [
        {
          "name": "stdout",
          "output_type": "stream",
          "text": [
            "MSE =  1.5485232555562498\n"
          ]
        }
      ],
      "source": [
        "print('MSE = ',mse_loss_fxn(x, w, bias, y))"
      ]
    },
    {
      "cell_type": "markdown",
      "metadata": {
        "id": "kSWz3HLS1yLs"
      },
      "source": [
        "## 2nd iter"
      ]
    },
    {
      "cell_type": "code",
      "execution_count": 20,
      "metadata": {
        "id": "OWI2wbinnU8z"
      },
      "outputs": [
        {
          "name": "stdout",
          "output_type": "stream",
          "text": [
            "Our new w =  [[1.18307229]]\n"
          ]
        }
      ],
      "source": [
        "w = gradient_descent_update_dep_var(x, w, bias, y, 0.01)\n",
        "print('Our new w = ', w)"
      ]
    },
    {
      "cell_type": "code",
      "execution_count": 21,
      "metadata": {
        "id": "AKiwRFsPnt9R"
      },
      "outputs": [
        {
          "name": "stdout",
          "output_type": "stream",
          "text": [
            "Our new bias =  0.4881867135625\n"
          ]
        }
      ],
      "source": [
        "bias = gradient_descent_update_bias(x, w, bias, y, 0.01)\n",
        "print('Our new bias = ', bias)"
      ]
    },
    {
      "cell_type": "code",
      "execution_count": 22,
      "metadata": {
        "id": "2fIfgCNPoalG"
      },
      "outputs": [
        {
          "name": "stdout",
          "output_type": "stream",
          "text": [
            "MSE =  1.5275297444031897\n"
          ]
        }
      ],
      "source": [
        "print('MSE = ',mse_loss_fxn(x, w, bias, y))"
      ]
    },
    {
      "cell_type": "markdown",
      "metadata": {
        "id": "ArMJ4efp11KF"
      },
      "source": [
        "## 3rd iter"
      ]
    },
    {
      "cell_type": "code",
      "execution_count": 23,
      "metadata": {
        "id": "KEMaNt6onuXP"
      },
      "outputs": [
        {
          "name": "stdout",
          "output_type": "stream",
          "text": [
            "Our new w =  [[1.17471599]]\n",
            "Our new bias =  0.48243126646440154\n"
          ]
        }
      ],
      "source": [
        "w = gradient_descent_update_dep_var(x, w, bias, y, 0.01)\n",
        "print('Our new w = ', w)\n",
        "bias = gradient_descent_update_bias(x, w, bias, y, 0.01)\n",
        "print('Our new bias = ', bias)"
      ]
    },
    {
      "cell_type": "code",
      "execution_count": 24,
      "metadata": {
        "id": "Bqjf9n7ioeCA"
      },
      "outputs": [
        {
          "name": "stdout",
          "output_type": "stream",
          "text": [
            "MSE =  1.5070072159046326\n"
          ]
        }
      ],
      "source": [
        "print('MSE = ',mse_loss_fxn(x, w, bias, y))"
      ]
    },
    {
      "cell_type": "markdown",
      "metadata": {
        "id": "ukOrOycn2p0H"
      },
      "source": [
        "## 4th iter"
      ]
    },
    {
      "cell_type": "code",
      "execution_count": 25,
      "metadata": {
        "id": "K49aoXUYoe84"
      },
      "outputs": [
        {
          "name": "stdout",
          "output_type": "stream",
          "text": [
            "Our new w =  [[1.16643026]]\n",
            "Our new bias =  0.4767748025187581\n"
          ]
        }
      ],
      "source": [
        "w = gradient_descent_update_dep_var(x, w, bias, y, 0.01)\n",
        "print('Our new w = ', w)\n",
        "bias = gradient_descent_update_bias(x, w, bias, y, 0.01)\n",
        "print('Our new bias = ', bias)"
      ]
    },
    {
      "cell_type": "code",
      "execution_count": 26,
      "metadata": {
        "id": "_I3S_IswogYx"
      },
      "outputs": [
        {
          "name": "stdout",
          "output_type": "stream",
          "text": [
            "MSE =  1.4869437361389235\n"
          ]
        }
      ],
      "source": [
        "print('MSE = ',mse_loss_fxn(x, w, bias, y))"
      ]
    },
    {
      "cell_type": "markdown",
      "metadata": {
        "id": "8SZmvwfJ2ryt"
      },
      "source": [
        "## Let's loop it!"
      ]
    },
    {
      "cell_type": "code",
      "execution_count": 27,
      "metadata": {
        "id": "Wx9qccxBohr_"
      },
      "outputs": [
        {
          "name": "stdout",
          "output_type": "stream",
          "text": [
            "new w = [[1.15821423]]\n",
            "new bias = 0.471215983339039\n",
            "new MSE = 1.4673276796858534\n",
            "\n",
            "new w = [[1.15006708]]\n",
            "new bias = 0.46575348810647327\n",
            "new MSE = 1.4481477216266692\n",
            "\n",
            "new w = [[1.14198798]]\n",
            "new bias = 0.4603860133404317\n",
            "new MSE = 1.4293928297516472\n",
            "\n",
            "new w = [[1.13397611]]\n",
            "new bias = 0.455112272671809\n",
            "new MSE = 1.4110522569698483\n",
            "\n",
            "new w = [[1.12603067]]\n",
            "new bias = 0.44993099661936536\n",
            "new MSE = 1.3931155339158026\n",
            "\n",
            "new w = [[1.11815086]]\n",
            "new bias = 0.4448409323689903\n",
            "new MSE = 1.375572461748021\n",
            "\n",
            "new w = [[1.1103359]]\n",
            "new bias = 0.4398408435558491\n",
            "new MSE = 1.358413105134349\n",
            "\n",
            "new w = [[1.10258501]]\n",
            "new bias = 0.43492951004937547\n",
            "new MSE = 1.3416277854193175\n",
            "\n",
            "new w = [[1.09489744]]\n",
            "new bias = 0.43010572774107236\n",
            "new MSE = 1.325207073968771\n",
            "\n",
            "new w = [[1.08727243]]\n",
            "new bias = 0.4253683083350849\n",
            "new MSE = 1.309141785687163\n",
            "\n",
            "new w = [[1.07970922]]\n",
            "new bias = 0.42071607914150855\n",
            "new MSE = 1.2934229727030555\n",
            "\n",
            "new w = [[1.0722071]]\n",
            "new bias = 0.4161478828723976\n",
            "new MSE = 1.278041918218436\n",
            "\n",
            "new w = [[1.06476532]]\n",
            "new bias = 0.4116625774404381\n",
            "new MSE = 1.26299013051762\n",
            "\n",
            "new w = [[1.05738318]]\n",
            "new bias = 0.40725903576025035\n",
            "new MSE = 1.2482593371315915\n",
            "\n",
            "new w = [[1.05005997]]\n",
            "new bias = 0.4029361455522874\n",
            "new MSE = 1.233841479153739\n",
            "\n",
            "new w = [[1.04279499]]\n",
            "new bias = 0.3986928091492947\n",
            "new MSE = 1.2197287057030781\n",
            "\n",
            "new w = [[1.03558755]]\n",
            "new bias = 0.39452794330529806\n",
            "new MSE = 1.2059133685311123\n",
            "\n",
            "new w = [[1.02843697]]\n",
            "new bias = 0.3904404790070865\n",
            "new MSE = 1.1923880167686205\n",
            "\n",
            "new w = [[1.02134259]]\n",
            "new bias = 0.386429361288158\n",
            "new MSE = 1.1791453918087331\n",
            "\n",
            "new w = [[1.01430373]]\n",
            "new bias = 0.3824935490450953\n",
            "new MSE = 1.166178422322763\n",
            "\n"
          ]
        }
      ],
      "source": [
        "for i in range(0, 20):\n",
        "  w = gradient_descent_update_dep_var(x, w, bias, y, 0.01)\n",
        "  print('new w =', w)\n",
        "  bias = gradient_descent_update_bias(x, w, bias, y, 0.01)\n",
        "  print('new bias =', bias)\n",
        "  print('new MSE =', mse_loss_fxn(x, w, bias, y))\n",
        "  print()"
      ]
    },
    {
      "cell_type": "code",
      "execution_count": 28,
      "metadata": {
        "id": "CQVH6kio6w0U"
      },
      "outputs": [
        {
          "data": {
            "text/plain": [
              "array([[0],\n",
              "       [1],\n",
              "       [0],\n",
              "       [1]])"
            ]
          },
          "metadata": {},
          "output_type": "display_data"
        },
        {
          "data": {
            "text/plain": [
              "array([[1.39679728],\n",
              "       [0.38249355],\n",
              "       [1.39679728],\n",
              "       [0.38249355]])"
            ]
          },
          "execution_count": 28,
          "metadata": {},
          "output_type": "execute_result"
        }
      ],
      "source": [
        "display(y)\n",
        "yhat = x@w+bias\n",
        "yhat"
      ]
    },
    {
      "cell_type": "code",
      "execution_count": 51,
      "metadata": {
        "id": "I60X8M106w3Z"
      },
      "outputs": [
        {
          "data": {
            "text/plain": [
              "[<matplotlib.lines.Line2D at 0x11a1c14c0>]"
            ]
          },
          "execution_count": 51,
          "metadata": {},
          "output_type": "execute_result"
        },
        {
          "data": {
            "image/png": "[encoded data removed]",
            "text/plain": [
              "<Figure size 800x600 with 1 Axes>"
            ]
          },
          "metadata": {},
          "output_type": "display_data"
        }
      ],
      "source": [
        "plt.figure(figsize = (8,6))\n",
        "sns.scatterplot(x=x.squeeze(), y=y.squeeze())\n",
        "plt.plot([x[0], x[-1]], [yhat[0], yhat[-1]], color='red',markerfacecolor='red',\n",
        "             markersize=10,linestyle='dashed')"
      ]
    },
    {
      "cell_type": "code",
      "execution_count": null,
      "metadata": {
        "id": "JB4kZ10EJQLO"
      },
      "outputs": [],
      "source": []
    },
    {
      "cell_type": "markdown",
      "metadata": {
        "id": "3HAvOYne4ulA"
      },
      "source": [
        "## Participation block"
      ]
    },
    {
      "cell_type": "markdown",
      "metadata": {
        "id": "FijxJkVd405a"
      },
      "source": []
    },
    {
      "cell_type": "markdown",
      "metadata": {
        "id": "3ZzZz9b96xCR"
      },
      "source": [
        "# Reinitialize, loop and plot"
      ]
    },
    {
      "cell_type": "code",
      "execution_count": 30,
      "metadata": {
        "id": "qBLBokc7oyhc"
      },
      "outputs": [],
      "source": [
        "# our variable init\n",
        "x = np.array([[1],[0],[1],[0]])\n",
        "bias = 0.5\n",
        "w = np.array([[1.2]]) # needs to be n,1\n",
        "y = np.array([[0],[1],[0],[1]])\n",
        "mylr = 0.001"
      ]
    },
    {
      "cell_type": "code",
      "execution_count": 31,
      "metadata": {
        "id": "ltCevGvDpMfW"
      },
      "outputs": [
        {
          "name": "stdout",
          "output_type": "stream",
          "text": [
            "new w = [[1.19915]]\n",
            "new bias = 0.499400425\n",
            "new MSE = 1.5678367403789304\n",
            "\n",
            "new w = [[1.19830072]]\n",
            "new bias = 0.49880187421260624\n",
            "new MSE = 1.5656783964128553\n",
            "\n",
            "new w = [[1.19745217]]\n",
            "new bias = 0.49820434625164967\n",
            "new MSE = 1.5635249555281574\n",
            "\n",
            "new w = [[1.19660435]]\n",
            "new bias = 0.49760783973278394\n",
            "new MSE = 1.5613764051839971\n",
            "\n",
            "new w = [[1.19575724]]\n",
            "new bias = 0.4970123532734833\n",
            "new MSE = 1.5592327328722309\n",
            "\n",
            "new w = [[1.19491085]]\n",
            "new bias = 0.4964178854930401\n",
            "new MSE = 1.5570939261173218\n",
            "\n",
            "new w = [[1.19406519]]\n",
            "new bias = 0.4958244350125623\n",
            "new MSE = 1.5549599724762575\n",
            "\n",
            "new w = [[1.19322025]]\n",
            "new bias = 0.49523200045497123\n",
            "new MSE = 1.5528308595384632\n",
            "\n",
            "new w = [[1.19237602]]\n",
            "new bias = 0.49464058044499915\n",
            "new MSE = 1.5507065749257178\n",
            "\n",
            "new w = [[1.19153251]]\n",
            "new bias = 0.4940501736091869\n",
            "new MSE = 1.5485871062920686\n",
            "\n",
            "new w = [[1.19068972]]\n",
            "new bias = 0.49346077857588155\n",
            "new MSE = 1.5464724413237474\n",
            "\n",
            "new w = [[1.18984764]]\n",
            "new bias = 0.492872393975234\n",
            "new MSE = 1.5443625677390864\n",
            "\n",
            "new w = [[1.18900628]]\n",
            "new bias = 0.49228501843919664\n",
            "new MSE = 1.5422574732884347\n",
            "\n",
            "new w = [[1.18816564]]\n",
            "new bias = 0.49169865060152096\n",
            "new MSE = 1.540157145754072\n",
            "\n",
            "new w = [[1.18732571]]\n",
            "new bias = 0.4911132890977552\n",
            "new MSE = 1.5380615729501306\n",
            "\n",
            "new w = [[1.18648649]]\n",
            "new bias = 0.49052893256524205\n",
            "new MSE = 1.5359707427225047\n",
            "\n",
            "new w = [[1.18564798]]\n",
            "new bias = 0.4899455796431163\n",
            "new MSE = 1.5338846429487751\n",
            "\n",
            "new w = [[1.18481018]]\n",
            "new bias = 0.48936322897230233\n",
            "new MSE = 1.53180326153812\n",
            "\n",
            "new w = [[1.1839731]]\n",
            "new bias = 0.488781879195512\n",
            "new MSE = 1.5297265864312357\n",
            "\n",
            "new w = [[1.18313672]]\n",
            "new bias = 0.4882015289572422\n",
            "new MSE = 1.5276546056002538\n",
            "\n"
          ]
        }
      ],
      "source": [
        "for i in range(0, 20):\n",
        "  w = gradient_descent_update_dep_var(x, w, bias, y, mylr)\n",
        "  print('new w =', w)\n",
        "  bias = gradient_descent_update_bias(x, w, bias, y, mylr)\n",
        "  print('new bias =', bias)\n",
        "  print('new MSE =', mse_loss_fxn(x, w, bias, y))\n",
        "  print()"
      ]
    },
    {
      "cell_type": "code",
      "execution_count": 32,
      "metadata": {
        "id": "8ZIOEu7q7N1e"
      },
      "outputs": [
        {
          "data": {
            "text/plain": [
              "array([[0],\n",
              "       [1],\n",
              "       [0],\n",
              "       [1]])"
            ]
          },
          "metadata": {},
          "output_type": "display_data"
        },
        {
          "data": {
            "text/plain": [
              "array([[1.67133825],\n",
              "       [0.48820153],\n",
              "       [1.67133825],\n",
              "       [0.48820153]])"
            ]
          },
          "execution_count": 32,
          "metadata": {},
          "output_type": "execute_result"
        }
      ],
      "source": [
        "display(y)\n",
        "yhat = x@w+bias\n",
        "yhat"
      ]
    },
    {
      "cell_type": "code",
      "execution_count": 33,
      "metadata": {
        "id": "dvo_TsDK7Oss"
      },
      "outputs": [
        {
          "data": {
            "text/plain": [
              "[<matplotlib.lines.Line2D at 0x107b87f40>]"
            ]
          },
          "execution_count": 33,
          "metadata": {},
          "output_type": "execute_result"
        },
        {
          "data": {
            "image/png": "[encoded data removed]",
            "text/plain": [
              "<Figure size 800x600 with 1 Axes>"
            ]
          },
          "metadata": {},
          "output_type": "display_data"
        }
      ],
      "source": [
        "plt.figure(figsize = (8,6))\n",
        "sns.scatterplot(x=x.squeeze(), y=y.squeeze())\n",
        "plt.plot(x.squeeze(), yhat.squeeze(), color='red', linestyle='dashed') # use squeeze instead"
      ]
    },
    {
      "cell_type": "markdown",
      "metadata": {
        "id": "9R0uxZMV7UiY"
      },
      "source": [
        "## Let's change our alpha"
      ]
    },
    {
      "cell_type": "code",
      "execution_count": 34,
      "metadata": {
        "id": "4Gfy32e1pTSt"
      },
      "outputs": [],
      "source": [
        "# our variable init\n",
        "x = np.array([[1],[0],[1],[0]])\n",
        "bias = 0.5\n",
        "w = np.array([[1.2]]) # needs to be n,1\n",
        "#w = np.array([[-0.62]]) # needs to be n,1\n",
        "y = np.array([[0],[1],[0],[1]])\n",
        "mylr = 0.01\n",
        "iterations = 100"
      ]
    },
    {
      "cell_type": "code",
      "execution_count": 35,
      "metadata": {
        "id": "5gu3n6pgSRD_"
      },
      "outputs": [
        {
          "data": {
            "text/plain": [
              "array([[0],\n",
              "       [1],\n",
              "       [0],\n",
              "       [1]])"
            ]
          },
          "metadata": {},
          "output_type": "display_data"
        },
        {
          "data": {
            "text/plain": [
              "array([[1.7],\n",
              "       [0.5],\n",
              "       [1.7],\n",
              "       [0.5]])"
            ]
          },
          "execution_count": 35,
          "metadata": {},
          "output_type": "execute_result"
        }
      ],
      "source": [
        "display(y)\n",
        "yhat = x@w+bias\n",
        "yhat"
      ]
    },
    {
      "cell_type": "code",
      "execution_count": 50,
      "metadata": {
        "id": "hDpgBJsT7S3x"
      },
      "outputs": [
        {
          "data": {
            "text/plain": [
              "[<matplotlib.lines.Line2D at 0x11a24ffa0>]"
            ]
          },
          "execution_count": 50,
          "metadata": {},
          "output_type": "execute_result"
        },
        {
          "data": {
            "image/png": "[encoded data removed]",
            "text/plain": [
              "<Figure size 800x600 with 1 Axes>"
            ]
          },
          "metadata": {},
          "output_type": "display_data"
        }
      ],
      "source": [
        "plt.figure(figsize = (8,6))\n",
        "sns.scatterplot(x=x.squeeze(), y=y.squeeze())\n",
        "plt.plot(x.squeeze(), yhat.squeeze(), color='red', linestyle='dashed') # use squeeze instead"
      ]
    },
    {
      "cell_type": "markdown",
      "metadata": {
        "id": "xmbx_mQw7E-L"
      },
      "source": [
        "# Learning time!"
      ]
    },
    {
      "cell_type": "code",
      "execution_count": 37,
      "metadata": {
        "id": "poHVvrCIpTec"
      },
      "outputs": [
        {
          "name": "stdout",
          "output_type": "stream",
          "text": [
            "Starting MSE = 1.5699999999999998\n",
            "new w = [[1.1915]]\n",
            "new bias = 0.4940425\n",
            "new MSE = 1.5485232555562498\n",
            "\n",
            "new w = [[1.18307229]]\n",
            "new bias = 0.4881867135625\n",
            "new MSE = 1.5275297444031897\n",
            "\n",
            "new w = [[1.17471599]]\n",
            "new bias = 0.48243126646440154\n",
            "new MSE = 1.5070072159046326\n",
            "\n",
            "new w = [[1.16643026]]\n",
            "new bias = 0.4767748025187581\n",
            "new MSE = 1.4869437361389235\n",
            "\n",
            "new w = [[1.15821423]]\n",
            "new bias = 0.471215983339039\n",
            "new MSE = 1.4673276796858534\n",
            "\n",
            "new w = [[1.15006708]]\n",
            "new bias = 0.46575348810647327\n",
            "new MSE = 1.4481477216266692\n",
            "\n",
            "new w = [[1.14198798]]\n",
            "new bias = 0.4603860133404317\n",
            "new MSE = 1.4293928297516472\n",
            "\n",
            "new w = [[1.13397611]]\n",
            "new bias = 0.455112272671809\n",
            "new MSE = 1.4110522569698483\n",
            "\n",
            "new w = [[1.12603067]]\n",
            "new bias = 0.44993099661936536\n",
            "new MSE = 1.3931155339158026\n",
            "\n",
            "new w = [[1.11815086]]\n",
            "new bias = 0.4448409323689903\n",
            "new MSE = 1.375572461748021\n",
            "\n",
            "new w = [[1.1103359]]\n",
            "new bias = 0.4398408435558491\n",
            "new MSE = 1.358413105134349\n",
            "\n",
            "new w = [[1.10258501]]\n",
            "new bias = 0.43492951004937547\n",
            "new MSE = 1.3416277854193175\n",
            "\n",
            "new w = [[1.09489744]]\n",
            "new bias = 0.43010572774107236\n",
            "new MSE = 1.325207073968771\n",
            "\n",
            "new w = [[1.08727243]]\n",
            "new bias = 0.4253683083350849\n",
            "new MSE = 1.309141785687163\n",
            "\n",
            "new w = [[1.07970922]]\n",
            "new bias = 0.42071607914150855\n",
            "new MSE = 1.2934229727030555\n",
            "\n",
            "new w = [[1.0722071]]\n",
            "new bias = 0.4161478828723976\n",
            "new MSE = 1.278041918218436\n",
            "\n",
            "new w = [[1.06476532]]\n",
            "new bias = 0.4116625774404381\n",
            "new MSE = 1.26299013051762\n",
            "\n",
            "new w = [[1.05738318]]\n",
            "new bias = 0.40725903576025035\n",
            "new MSE = 1.2482593371315915\n",
            "\n",
            "new w = [[1.05005997]]\n",
            "new bias = 0.4029361455522874\n",
            "new MSE = 1.233841479153739\n",
            "\n",
            "new w = [[1.04279499]]\n",
            "new bias = 0.3986928091492947\n",
            "new MSE = 1.2197287057030781\n",
            "\n",
            "new w = [[1.03558755]]\n",
            "new bias = 0.39452794330529806\n",
            "new MSE = 1.2059133685311123\n",
            "\n",
            "new w = [[1.02843697]]\n",
            "new bias = 0.3904404790070865\n",
            "new MSE = 1.1923880167686205\n",
            "\n",
            "new w = [[1.02134259]]\n",
            "new bias = 0.386429361288158\n",
            "new MSE = 1.1791453918087331\n",
            "\n",
            "new w = [[1.01430373]]\n",
            "new bias = 0.3824935490450953\n",
            "new MSE = 1.166178422322763\n",
            "\n",
            "new w = [[1.00731974]]\n",
            "new bias = 0.37863201485634024\n",
            "new MSE = 1.153480219405342\n",
            "\n",
            "new w = [[1.00038998]]\n",
            "new bias = 0.37484374480333565\n",
            "new MSE = 1.1410440718455153\n",
            "\n",
            "new w = [[0.99351381]]\n",
            "new bias = 0.3711277382940034\n",
            "new MSE = 1.1288634415205185\n",
            "\n",
            "new w = [[0.9866906]]\n",
            "new bias = 0.36748300788852833\n",
            "new MSE = 1.1169319589090578\n",
            "\n",
            "new w = [[0.97991974]]\n",
            "new bias = 0.3639085791274179\n",
            "new MSE = 1.1052434187209899\n",
            "\n",
            "new w = [[0.97320059]]\n",
            "new bias = 0.3604034903618079\n",
            "new MSE = 1.093791775640384\n",
            "\n",
            "new w = [[0.96653257]]\n",
            "new bias = 0.35696679258598474\n",
            "new MSE = 1.0825711401790215\n",
            "\n",
            "new w = [[0.95991508]]\n",
            "new bias = 0.35359754927209547\n",
            "new MSE = 1.0715757746374692\n",
            "\n",
            "new w = [[0.95334751]]\n",
            "new bias = 0.350294836207017\n",
            "new MSE = 1.060800089170934\n",
            "\n",
            "new w = [[0.9468293]]\n",
            "new bias = 0.3470577413313563\n",
            "new MSE = 1.0502386379571804\n",
            "\n",
            "new w = [[0.94035987]]\n",
            "new bias = 0.34388536458055347\n",
            "new MSE = 1.0398861154638617\n",
            "\n",
            "new w = [[0.93393864]]\n",
            "new bias = 0.3407768177280606\n",
            "new MSE = 1.0297373528126879\n",
            "\n",
            "new w = [[0.92756506]]\n",
            "new bias = 0.33773122423056934\n",
            "new MSE = 1.019787314237914\n",
            "\n",
            "new w = [[0.92123858]]\n",
            "new bias = 0.3347477190752598\n",
            "new MSE = 1.010031093636705\n",
            "\n",
            "new w = [[0.91495865]]\n",
            "new bias = 0.3318254486290452\n",
            "new MSE = 1.0004639112089877\n",
            "\n",
            "new w = [[0.90872473]]\n",
            "new bias = 0.32896357048978586\n",
            "new MSE = 0.991081110184478\n",
            "\n",
            "new w = [[0.90253629]]\n",
            "new bias = 0.3261612533394462\n",
            "new MSE = 0.9818781536346086\n",
            "\n",
            "new w = [[0.8963928]]\n",
            "new bias = 0.32341767679917055\n",
            "new MSE = 0.9728506213671648\n",
            "\n",
            "new w = [[0.89029375]]\n",
            "new bias = 0.3207320312862521\n",
            "new MSE = 0.9639942069014749\n",
            "\n",
            "new w = [[0.88423862]]\n",
            "new bias = 0.3181035178729696\n",
            "new MSE = 0.9553047145220711\n",
            "\n",
            "new w = [[0.87822691]]\n",
            "new bias = 0.31553134814726885\n",
            "new MSE = 0.9467780564087811\n",
            "\n",
            "new w = [[0.87225812]]\n",
            "new bias = 0.31301474407526364\n",
            "new MSE = 0.9384102498412654\n",
            "\n",
            "new w = [[0.86633175]]\n",
            "new bias = 0.31055293786553306\n",
            "new MSE = 0.930197414476076\n",
            "\n",
            "new w = [[0.86044733]]\n",
            "new bias = 0.3081451718351913\n",
            "new MSE = 0.9221357696943462\n",
            "\n",
            "new w = [[0.85460437]]\n",
            "new bias = 0.3057906982777073\n",
            "new MSE = 0.9142216320182837\n",
            "\n",
            "new w = [[0.84880239]]\n",
            "new bias = 0.30348877933245066\n",
            "new MSE = 0.906451412594682\n",
            "\n",
            "new w = [[0.84304094]]\n",
            "new bias = 0.30123868685594235\n",
            "new MSE = 0.8988216147437073\n",
            "\n",
            "new w = [[0.83731954]]\n",
            "new bias = 0.29903970229478644\n",
            "new MSE = 0.8913288315712734\n",
            "\n",
            "new w = [[0.83163774]]\n",
            "new bias = 0.2968911165602624\n",
            "new MSE = 0.8839697436433467\n",
            "\n",
            "new w = [[0.8259951]]\n",
            "new bias = 0.2947922299045555\n",
            "new MSE = 0.8767411167205816\n",
            "\n",
            "new w = [[0.82039116]]\n",
            "new bias = 0.2927423517986038\n",
            "new MSE = 0.8696397995517184\n",
            "\n",
            "new w = [[0.81482549]]\n",
            "new bias = 0.29074080081154113\n",
            "new MSE = 0.8626627217242167\n",
            "\n",
            "new w = [[0.80929766]]\n",
            "new bias = 0.2887869044917148\n",
            "new MSE = 0.8558068915706418\n",
            "\n",
            "new w = [[0.80380724]]\n",
            "new bias = 0.28687999924925756\n",
            "new MSE = 0.8490693941293584\n",
            "\n",
            "new w = [[0.7983538]]\n",
            "new bias = 0.2850194302401938\n",
            "new MSE = 0.8424473891581182\n",
            "\n",
            "new w = [[0.79293694]]\n",
            "new bias = 0.28320455125205957\n",
            "new MSE = 0.8359381091991743\n",
            "\n",
            "new w = [[0.78755623]]\n",
            "new bias = 0.2814347245910166\n",
            "new MSE = 0.8295388576945819\n",
            "\n",
            "new w = [[0.78221127]]\n",
            "new bias = 0.2797093209704415\n",
            "new MSE = 0.8232470071503837\n",
            "\n",
            "new w = [[0.77690167]]\n",
            "new bias = 0.2780277194009697\n",
            "new MSE = 0.8170599973484127\n",
            "\n",
            "new w = [[0.77162702]]\n",
            "new bias = 0.2763893070819765\n",
            "new MSE = 0.810975333604476\n",
            "\n",
            "new w = [[0.76638694]]\n",
            "new bias = 0.2747934792944752\n",
            "new MSE = 0.8049905850717166\n",
            "\n",
            "new w = [[0.76118104]]\n",
            "new bias = 0.2732396392954146\n",
            "new MSE = 0.799103383087981\n",
            "\n",
            "new w = [[0.75600894]]\n",
            "new bias = 0.27172719821335767\n",
            "new MSE = 0.7933114195660501\n",
            "\n",
            "new w = [[0.75087026]]\n",
            "new bias = 0.2702555749455221\n",
            "new MSE = 0.7876124454256221\n",
            "\n",
            "new w = [[0.74576463]]\n",
            "new bias = 0.2688241960561671\n",
            "new MSE = 0.782004269065965\n",
            "\n",
            "new w = [[0.74069168]]\n",
            "new bias = 0.2674324956763065\n",
            "new MSE = 0.7764847548781794\n",
            "\n",
            "new w = [[0.73565106]]\n",
            "new bias = 0.2660799154047329\n",
            "new MSE = 0.771051821796051\n",
            "\n",
            "new w = [[0.73064241]]\n",
            "new bias = 0.26476590421033425\n",
            "new MSE = 0.7657034418844828\n",
            "\n",
            "new w = [[0.72566537]]\n",
            "new bias = 0.2634899183356866\n",
            "new MSE = 0.7604376389645406\n",
            "\n",
            "new w = [[0.72071959]]\n",
            "new bias = 0.2622514212019065\n",
            "new MSE = 0.7552524872741542\n",
            "\n",
            "new w = [[0.71580474]]\n",
            "new bias = 0.2610498833147464\n",
            "new MSE = 0.7501461101635567\n",
            "\n",
            "new w = [[0.71092046]]\n",
            "new bias = 0.25988478217191646\n",
            "new MSE = 0.7451166788245523\n",
            "\n",
            "new w = [[0.70606644]]\n",
            "new bias = 0.2587556021716175\n",
            "new MSE = 0.7401624110527432\n",
            "\n",
            "new w = [[0.70124233]]\n",
            "new bias = 0.25766183452226876\n",
            "new MSE = 0.735281570041854\n",
            "\n",
            "new w = [[0.6964478]]\n",
            "new bias = 0.25660297715341474\n",
            "new MSE = 0.7304724632093239\n",
            "\n",
            "new w = [[0.69168255]]\n",
            "new bias = 0.25557853462779623\n",
            "new MSE = 0.7257334410523562\n",
            "\n",
            "new w = [[0.68694625]]\n",
            "new bias = 0.25458801805457004\n",
            "new MSE = 0.7210628960336318\n",
            "\n",
            "new w = [[0.68223857]]\n",
            "new bias = 0.2536309450036622\n",
            "new MSE = 0.71645926149592\n",
            "\n",
            "new w = [[0.67755923]]\n",
            "new bias = 0.25270683942124034\n",
            "new MSE = 0.7119210106048355\n",
            "\n",
            "new w = [[0.6729079]]\n",
            "new bias = 0.25181523154629015\n",
            "new MSE = 0.7074466553190111\n",
            "\n",
            "new w = [[0.66828428]]\n",
            "new bias = 0.25095565782828183\n",
            "new MSE = 0.7030347453869762\n",
            "\n",
            "new w = [[0.66368808]]\n",
            "new bias = 0.250127660845912\n",
            "new MSE = 0.6986838673700468\n",
            "\n",
            "new w = [[0.659119]]\n",
            "new bias = 0.24933078922690743\n",
            "new MSE = 0.6943926436905521\n",
            "\n",
            "new w = [[0.65457675]]\n",
            "new bias = 0.24856459756887633\n",
            "new MSE = 0.6901597317047418\n",
            "\n",
            "new w = [[0.65006105]]\n",
            "new bias = 0.2478286463611936\n",
            "new MSE = 0.685983822799733\n",
            "\n",
            "new w = [[0.6455716]]\n",
            "new bias = 0.24712250190790666\n",
            "new MSE = 0.6818636415138717\n",
            "\n",
            "new w = [[0.64110813]]\n",
            "new bias = 0.24644573625164867\n",
            "new MSE = 0.6777979446799042\n",
            "\n",
            "new w = [[0.63667036]]\n",
            "new bias = 0.24579792709854545\n",
            "new MSE = 0.6737855205903636\n",
            "\n",
            "new w = [[0.63225802]]\n",
            "new bias = 0.24517865774410366\n",
            "new MSE = 0.6698251881845974\n",
            "\n",
            "new w = [[0.62787083]]\n",
            "new bias = 0.24458751700006717\n",
            "new MSE = 0.6659157962568742\n",
            "\n",
            "new w = [[0.62350854]]\n",
            "new bias = 0.24402409912222903\n",
            "new MSE = 0.6620562226850207\n",
            "\n",
            "new w = [[0.61917088]]\n",
            "new bias = 0.2434880037391865\n",
            "new MSE = 0.6582453736790594\n",
            "\n",
            "new w = [[0.61485758]]\n",
            "new bias = 0.24297883578202698\n",
            "new MSE = 0.6544821830493263\n",
            "\n",
            "new w = [[0.6105684]]\n",
            "new bias = 0.24249620541493244\n",
            "new MSE = 0.6507656114935634\n",
            "\n",
            "new w = [[0.60630308]]\n",
            "new bias = 0.2420397279666906\n",
            "new MSE = 0.6470946459024939\n",
            "\n",
            "new w = [[0.60206136]]\n",
            "new bias = 0.24160902386310082\n",
            "new MSE = 0.6434682986834008\n",
            "\n"
          ]
        }
      ],
      "source": [
        "# our variable init\n",
        "x = np.array([[1],[0],[1],[0]])\n",
        "bias = 0.5\n",
        "w = np.array([[1.2]]) # needs to be n,1\n",
        "#w = np.array([[-0.62]]) # needs to be n,1\n",
        "y = np.array([[0],[1],[0],[1]])\n",
        "mylr = 0.01\n",
        "iterations = 100\n",
        "\n",
        "weights = list()\n",
        "cost = list()\n",
        "biases  = list()\n",
        "my_mse = mse_loss_fxn(x, w, bias, y)\n",
        "print('Starting MSE =', my_mse)\n",
        "cost.append(my_mse)\n",
        "weights.append(w[0][0])\n",
        "biases.append(bias)\n",
        "for i in range(0, iterations):\n",
        "  w = gradient_descent_update_dep_var(x, w, bias, y, mylr)\n",
        "  weights.append(w[0][0])\n",
        "  print('new w =', w)\n",
        "  bias = gradient_descent_update_bias(x, w, bias, y, mylr)\n",
        "  biases.append(bias)\n",
        "  print('new bias =', bias)\n",
        "  my_mse = mse_loss_fxn(x, w, bias, y)\n",
        "  cost.append(my_mse)\n",
        "  print('new MSE =', my_mse)\n",
        "  print()"
      ]
    },
    {
      "cell_type": "code",
      "execution_count": 38,
      "metadata": {
        "id": "NKUlHfvXQAsB"
      },
      "outputs": [
        {
          "data": {
            "image/png": "[encoded data removed]",
            "text/plain": [
              "<Figure size 640x480 with 1 Axes>"
            ]
          },
          "metadata": {},
          "output_type": "display_data"
        }
      ],
      "source": [
        "g = sns.scatterplot(y = cost, x = weights)\n",
        "g.invert_xaxis()"
      ]
    },
    {
      "cell_type": "code",
      "execution_count": 48,
      "metadata": {
        "id": "qdlYqN0kT8JQ"
      },
      "outputs": [
        {
          "data": {
            "text/plain": [
              "array([[nan],\n",
              "       [nan],\n",
              "       [nan],\n",
              "       [nan],\n",
              "       [nan],\n",
              "       [nan],\n",
              "       [nan],\n",
              "       [nan],\n",
              "       [nan],\n",
              "       [nan],\n",
              "       [nan],\n",
              "       [nan],\n",
              "       [nan],\n",
              "       [nan],\n",
              "       [nan],\n",
              "       [nan],\n",
              "       [nan],\n",
              "       [nan],\n",
              "       [nan],\n",
              "       [nan]])"
            ]
          },
          "metadata": {},
          "output_type": "display_data"
        },
        {
          "data": {
            "text/plain": [
              "[<matplotlib.lines.Line2D at 0x11a1a6f70>]"
            ]
          },
          "execution_count": 48,
          "metadata": {},
          "output_type": "execute_result"
        },
        {
          "data": {
            "image/png": "[encoded data removed]",
            "text/plain": [
              "<Figure size 800x600 with 1 Axes>"
            ]
          },
          "metadata": {},
          "output_type": "display_data"
        }
      ],
      "source": [
        "yhat = x@w+bias\n",
        "display(yhat)\n",
        "plt.figure(figsize = (8,6))\n",
        "sns.scatterplot(x=x.squeeze(), y=y.squeeze())\n",
        "plt.plot(x.squeeze(), yhat.squeeze(), color='red', linestyle='dashed') # use squeeze instead"
      ]
    },
    {
      "cell_type": "code",
      "execution_count": 40,
      "metadata": {
        "id": "vdR4kNsBQGZY"
      },
      "outputs": [
        {
          "data": {
            "text/plain": [
              "[np.float64(1.5699999999999998),\n",
              " np.float64(1.5485232555562498),\n",
              " np.float64(1.5275297444031897),\n",
              " np.float64(1.5070072159046326),\n",
              " np.float64(1.4869437361389235),\n",
              " np.float64(1.4673276796858534),\n",
              " np.float64(1.4481477216266692),\n",
              " np.float64(1.4293928297516472),\n",
              " np.float64(1.4110522569698483),\n",
              " np.float64(1.3931155339158026),\n",
              " np.float64(1.375572461748021),\n",
              " np.float64(1.358413105134349),\n",
              " np.float64(1.3416277854193175),\n",
              " np.float64(1.325207073968771),\n",
              " np.float64(1.309141785687163),\n",
              " np.float64(1.2934229727030555),\n",
              " np.float64(1.278041918218436),\n",
              " np.float64(1.26299013051762),\n",
              " np.float64(1.2482593371315915),\n",
              " np.float64(1.233841479153739),\n",
              " np.float64(1.2197287057030781),\n",
              " np.float64(1.2059133685311123),\n",
              " np.float64(1.1923880167686205),\n",
              " np.float64(1.1791453918087331),\n",
              " np.float64(1.166178422322763),\n",
              " np.float64(1.153480219405342),\n",
              " np.float64(1.1410440718455153),\n",
              " np.float64(1.1288634415205185),\n",
              " np.float64(1.1169319589090578),\n",
              " np.float64(1.1052434187209899),\n",
              " np.float64(1.093791775640384),\n",
              " np.float64(1.0825711401790215),\n",
              " np.float64(1.0715757746374692),\n",
              " np.float64(1.060800089170934),\n",
              " np.float64(1.0502386379571804),\n",
              " np.float64(1.0398861154638617),\n",
              " np.float64(1.0297373528126879),\n",
              " np.float64(1.019787314237914),\n",
              " np.float64(1.010031093636705),\n",
              " np.float64(1.0004639112089877),\n",
              " np.float64(0.991081110184478),\n",
              " np.float64(0.9818781536346086),\n",
              " np.float64(0.9728506213671648),\n",
              " np.float64(0.9639942069014749),\n",
              " np.float64(0.9553047145220711),\n",
              " np.float64(0.9467780564087811),\n",
              " np.float64(0.9384102498412654),\n",
              " np.float64(0.930197414476076),\n",
              " np.float64(0.9221357696943462),\n",
              " np.float64(0.9142216320182837),\n",
              " np.float64(0.906451412594682),\n",
              " np.float64(0.8988216147437073),\n",
              " np.float64(0.8913288315712734),\n",
              " np.float64(0.8839697436433467),\n",
              " np.float64(0.8767411167205816),\n",
              " np.float64(0.8696397995517184),\n",
              " np.float64(0.8626627217242167),\n",
              " np.float64(0.8558068915706418),\n",
              " np.float64(0.8490693941293584),\n",
              " np.float64(0.8424473891581182),\n",
              " np.float64(0.8359381091991743),\n",
              " np.float64(0.8295388576945819),\n",
              " np.float64(0.8232470071503837),\n",
              " np.float64(0.8170599973484127),\n",
              " np.float64(0.810975333604476),\n",
              " np.float64(0.8049905850717166),\n",
              " np.float64(0.799103383087981),\n",
              " np.float64(0.7933114195660501),\n",
              " np.float64(0.7876124454256221),\n",
              " np.float64(0.782004269065965),\n",
              " np.float64(0.7764847548781794),\n",
              " np.float64(0.771051821796051),\n",
              " np.float64(0.7657034418844828),\n",
              " np.float64(0.7604376389645406),\n",
              " np.float64(0.7552524872741542),\n",
              " np.float64(0.7501461101635567),\n",
              " np.float64(0.7451166788245523),\n",
              " np.float64(0.7401624110527432),\n",
              " np.float64(0.735281570041854),\n",
              " np.float64(0.7304724632093239),\n",
              " np.float64(0.7257334410523562),\n",
              " np.float64(0.7210628960336318),\n",
              " np.float64(0.71645926149592),\n",
              " np.float64(0.7119210106048355),\n",
              " np.float64(0.7074466553190111),\n",
              " np.float64(0.7030347453869762),\n",
              " np.float64(0.6986838673700468),\n",
              " np.float64(0.6943926436905521),\n",
              " np.float64(0.6901597317047418),\n",
              " np.float64(0.685983822799733),\n",
              " np.float64(0.6818636415138717),\n",
              " np.float64(0.6777979446799042),\n",
              " np.float64(0.6737855205903636),\n",
              " np.float64(0.6698251881845974),\n",
              " np.float64(0.6659157962568742),\n",
              " np.float64(0.6620562226850207),\n",
              " np.float64(0.6582453736790594),\n",
              " np.float64(0.6544821830493263),\n",
              " np.float64(0.6507656114935634),\n",
              " np.float64(0.6470946459024939),\n",
              " np.float64(0.6434682986834008)]"
            ]
          },
          "execution_count": 40,
          "metadata": {},
          "output_type": "execute_result"
        }
      ],
      "source": [
        "cost"
      ]
    },
    {
      "cell_type": "code",
      "execution_count": 41,
      "metadata": {
        "id": "nUkJ_6tNQa7N"
      },
      "outputs": [
        {
          "data": {
            "text/plain": [
              "[np.float64(1.2),\n",
              " np.float64(1.1915),\n",
              " np.float64(1.1830722875),\n",
              " np.float64(1.1747159924946875),\n",
              " np.float64(1.166430256199892),\n",
              " np.float64(1.1582142309062988),\n",
              " np.float64(1.150067079835072),\n",
              " np.float64(1.1419879769953643),\n",
              " np.float64(1.1339761070436853),\n",
              " np.float64(1.126030665145108),\n",
              " np.float64(1.1181508568362857),\n",
              " np.float64(1.1103358978902593),\n",
              " np.float64(1.1025850141830287),\n",
              " np.float64(1.0948974415618666),\n",
              " np.float64(1.0872724257153519),\n",
              " np.float64(1.0797092220450997),\n",
              " np.float64(1.0722070955391667),\n",
              " np.float64(1.0647653206471088),\n",
              " np.float64(1.0573831811566712),\n",
              " np.float64(1.0500599700720865),\n",
              " np.float64(1.0427949894939645),\n",
              " np.float64(1.0355875505007484),\n",
              " np.float64(1.0284369730317182),\n",
              " np.float64(1.0213425857715241),\n",
              " np.float64(1.0143037260362258),\n",
              " np.float64(1.0073197396608191),\n",
              " np.float64(1.0003899808882333),\n",
              " np.float64(0.9935138122597754),\n",
              " np.float64(0.9866906045070065),\n",
              " np.float64(0.9799197364450288),\n",
              " np.float64(0.9732005948671666),\n",
              " np.float64(0.9665325744410217),\n",
              " np.float64(0.9599150776058867),\n",
              " np.float64(0.9533475144714968),\n",
              " np.float64(0.9468293027181042),\n",
              " np.float64(0.9403598674978568),\n",
              " np.float64(0.9339386413374647),\n",
              " np.float64(0.9275650640421371),\n",
              " np.float64(0.9212385826007736),\n",
              " np.float64(0.9149586510923935),\n",
              " np.float64(0.9087247305937863),\n",
              " np.float64(0.9025362890883685),\n",
              " np.float64(0.8963928013762295),\n",
              " np.float64(0.8902937489853524),\n",
              " np.float64(0.8842386200839943),\n",
              " np.float64(0.8782269093942096),\n",
              " np.float64(0.8722581181065021),\n",
              " np.float64(0.8663317537955932),\n",
              " np.float64(0.8604473303372876),\n",
              " np.float64(0.8546043678264252),\n",
              " np.float64(0.8488023924959046),\n",
              " np.float64(0.8430409366367628),\n",
              " np.float64(0.8373195385192993),\n",
              " np.float64(0.8316377423152289),\n",
              " np.float64(0.8259950980208515),\n",
              " np.float64(0.8203911613812245),\n",
              " np.float64(0.8148254938153253),\n",
              " np.float64(0.809297662342191),\n",
              " np.float64(0.8038072395080215),\n",
              " np.float64(0.7983538033142351),\n",
              " np.float64(0.792936937146463),\n",
              " np.float64(0.7875562297044704),\n",
              " np.float64(0.7822112749329929),\n",
              " np.float64(0.7769016719534757),\n",
              " np.float64(0.7716270249967034),\n",
              " np.float64(0.7663869433363101),\n",
              " np.float64(0.7611810412231561),\n",
              " np.float64(0.7560089378205632),\n",
              " np.float64(0.7508702571403936),\n",
              " np.float64(0.745764627979964),\n",
              " np.float64(0.7406916838597833),\n",
              " np.float64(0.7356510629621029),\n",
              " np.float64(0.7306424080702687),\n",
              " np.float64(0.7256653665088657),\n",
              " np.float64(0.7207195900846429),\n",
              " np.float64(0.7158047350282102),\n",
              " np.float64(0.7109204619364954),\n",
              " np.float64(0.7060664357159533),\n",
              " np.float64(0.7012423255265154),\n",
              " np.float64(0.6964478047262715),\n",
              " np.float64(0.6916825508168731),\n",
              " np.float64(0.6869462453896498),\n",
              " np.float64(0.6822385740724287),\n",
              " np.float64(0.6775592264770482),\n",
              " np.float64(0.6729078961475567),\n",
              " np.float64(0.6682842805090875),\n",
              " np.float64(0.6636880808174006),\n",
              " np.float64(0.659119002109084),\n",
              " np.float64(0.654576753152404),\n",
              " np.float64(0.6500610463987977),\n",
              " np.float64(0.6455715979349977),\n",
              " np.float64(0.6411081274357833),\n",
              " np.float64(0.6366703581173461),\n",
              " np.float64(0.6322580166912666),\n",
              " np.float64(0.6278708333190898),\n",
              " np.float64(0.623508541567494),\n",
              " np.float64(0.6191708783640454),\n",
              " np.float64(0.6148575839535292),\n",
              " np.float64(0.6105684018548514),\n",
              " np.float64(0.6063030788185024),\n",
              " np.float64(0.6020613647845765)]"
            ]
          },
          "execution_count": 41,
          "metadata": {},
          "output_type": "execute_result"
        }
      ],
      "source": [
        "weights"
      ]
    },
    {
      "cell_type": "code",
      "execution_count": 42,
      "metadata": {
        "id": "y7NpFo3XQgGd"
      },
      "outputs": [
        {
          "data": {
            "text/plain": [
              "[0.5,\n",
              " np.float64(0.4940425),\n",
              " np.float64(0.4881867135625),\n",
              " np.float64(0.48243126646440154),\n",
              " np.float64(0.4767748025187581),\n",
              " np.float64(0.471215983339039),\n",
              " np.float64(0.46575348810647327),\n",
              " np.float64(0.4603860133404317),\n",
              " np.float64(0.455112272671809),\n",
              " np.float64(0.44993099661936536),\n",
              " np.float64(0.4448409323689903),\n",
              " np.float64(0.4398408435558491),\n",
              " np.float64(0.43492951004937547),\n",
              " np.float64(0.43010572774107236),\n",
              " np.float64(0.4253683083350849),\n",
              " np.float64(0.42071607914150855),\n",
              " np.float64(0.4161478828723976),\n",
              " np.float64(0.4116625774404381),\n",
              " np.float64(0.40725903576025035),\n",
              " np.float64(0.4029361455522874),\n",
              " np.float64(0.3986928091492947),\n",
              " np.float64(0.39452794330529806),\n",
              " np.float64(0.3904404790070865),\n",
              " np.float64(0.386429361288158),\n",
              " np.float64(0.3824935490450953),\n",
              " np.float64(0.37863201485634024),\n",
              " np.float64(0.37484374480333565),\n",
              " np.float64(0.3711277382940034),\n",
              " np.float64(0.36748300788852833),\n",
              " np.float64(0.3639085791274179),\n",
              " np.float64(0.3604034903618079),\n",
              " np.float64(0.35696679258598474),\n",
              " np.float64(0.35359754927209547),\n",
              " np.float64(0.350294836207017),\n",
              " np.float64(0.3470577413313563),\n",
              " np.float64(0.34388536458055347),\n",
              " np.float64(0.3407768177280606),\n",
              " np.float64(0.33773122423056934),\n",
              " np.float64(0.3347477190752598),\n",
              " np.float64(0.3318254486290452),\n",
              " np.float64(0.32896357048978586),\n",
              " np.float64(0.3261612533394462),\n",
              " np.float64(0.32341767679917055),\n",
              " np.float64(0.3207320312862521),\n",
              " np.float64(0.3181035178729696),\n",
              " np.float64(0.31553134814726885),\n",
              " np.float64(0.31301474407526364),\n",
              " np.float64(0.31055293786553306),\n",
              " np.float64(0.3081451718351913),\n",
              " np.float64(0.3057906982777073),\n",
              " np.float64(0.30348877933245066),\n",
              " np.float64(0.30123868685594235),\n",
              " np.float64(0.29903970229478644),\n",
              " np.float64(0.2968911165602624),\n",
              " np.float64(0.2947922299045555),\n",
              " np.float64(0.2927423517986038),\n",
              " np.float64(0.29074080081154113),\n",
              " np.float64(0.2887869044917148),\n",
              " np.float64(0.28687999924925756),\n",
              " np.float64(0.2850194302401938),\n",
              " np.float64(0.28320455125205957),\n",
              " np.float64(0.2814347245910166),\n",
              " np.float64(0.2797093209704415),\n",
              " np.float64(0.2780277194009697),\n",
              " np.float64(0.2763893070819765),\n",
              " np.float64(0.2747934792944752),\n",
              " np.float64(0.2732396392954146),\n",
              " np.float64(0.27172719821335767),\n",
              " np.float64(0.2702555749455221),\n",
              " np.float64(0.2688241960561671),\n",
              " np.float64(0.2674324956763065),\n",
              " np.float64(0.2660799154047329),\n",
              " np.float64(0.26476590421033425),\n",
              " np.float64(0.2634899183356866),\n",
              " np.float64(0.2622514212019065),\n",
              " np.float64(0.2610498833147464),\n",
              " np.float64(0.25988478217191646),\n",
              " np.float64(0.2587556021716175),\n",
              " np.float64(0.25766183452226876),\n",
              " np.float64(0.25660297715341474),\n",
              " np.float64(0.25557853462779623),\n",
              " np.float64(0.25458801805457004),\n",
              " np.float64(0.2536309450036622),\n",
              " np.float64(0.25270683942124034),\n",
              " np.float64(0.25181523154629015),\n",
              " np.float64(0.25095565782828183),\n",
              " np.float64(0.250127660845912),\n",
              " np.float64(0.24933078922690743),\n",
              " np.float64(0.24856459756887633),\n",
              " np.float64(0.2478286463611936),\n",
              " np.float64(0.24712250190790666),\n",
              " np.float64(0.24644573625164867),\n",
              " np.float64(0.24579792709854545),\n",
              " np.float64(0.24517865774410366),\n",
              " np.float64(0.24458751700006717),\n",
              " np.float64(0.24402409912222903),\n",
              " np.float64(0.2434880037391865),\n",
              " np.float64(0.24297883578202698),\n",
              " np.float64(0.24249620541493244),\n",
              " np.float64(0.2420397279666906),\n",
              " np.float64(0.24160902386310082)]"
            ]
          },
          "execution_count": 42,
          "metadata": {},
          "output_type": "execute_result"
        }
      ],
      "source": [
        "biases"
      ]
    },
    {
      "cell_type": "markdown",
      "metadata": {
        "id": "rR-lwRrYSTsC"
      },
      "source": [
        "# New dataset!"
      ]
    },
    {
      "cell_type": "code",
      "execution_count": 66,
      "metadata": {
        "id": "nFPt7OF9SS9j"
      },
      "outputs": [],
      "source": [
        "# Dataset\n",
        "x = np.array([32.50234527, 53.42680403, 61.53035803, 47.47563963, 59.81320787,\n",
        "              55.14218841, 52.21179669, 39.29956669, 48.10504169, 52.55001444,\n",
        "              45.41973014, 54.35163488, 44.1640495 , 58.16847072, 56.72720806,\n",
        "              48.95588857, 44.68719623, 60.29732685, 45.61864377, 38.81681754]).reshape(-1, 1)\n",
        "\n",
        "y = np.array([31.70700585, 68.77759598, 62.5623823 , 71.54663223, 87.23092513,\n",
        "              78.21151827, 79.64197305, 59.17148932, 75.3312423 , 71.30087989,\n",
        "              55.16567715, 82.47884676, 62.00892325, 75.39287043, 81.43619216,\n",
        "              60.72360244, 82.89250373, 97.37989686, 48.84715332, 56.87721319]).reshape(-1, 1)\n",
        "\n",
        "# Initialize parameters\n",
        "w = np.random.randn(1, 1)\n",
        "bias = np.random.randn()\n",
        "\n",
        "# Hyperparameters\n",
        "mylr = 0.00015\n",
        "iterations = 10"
      ]
    },
    {
      "cell_type": "code",
      "execution_count": 67,
      "metadata": {
        "id": "yF9nsIOMSavc"
      },
      "outputs": [
        {
          "data": {
            "text/plain": [
              "<Axes: >"
            ]
          },
          "execution_count": 67,
          "metadata": {},
          "output_type": "execute_result"
        },
        {
          "data": {
            "image/png": "[encoded data removed]",
            "text/plain": [
              "<Figure size 640x480 with 1 Axes>"
            ]
          },
          "metadata": {},
          "output_type": "display_data"
        }
      ],
      "source": [
        "# plot me\n",
        "sns.scatterplot(x=x.squeeze(), y=y.squeeze())"
      ]
    },
    {
      "cell_type": "code",
      "execution_count": 68,
      "metadata": {
        "id": "_RA3QRRF4Gib"
      },
      "outputs": [
        {
          "data": {
            "image/png": "[encoded data removed]",
            "text/plain": [
              "<Figure size 640x480 with 1 Axes>"
            ]
          },
          "metadata": {},
          "output_type": "display_data"
        }
      ],
      "source": [
        "weights = list()\n",
        "cost = list()\n",
        "biases  = list()\n",
        "my_mse = mse_loss_fxn(x, w, bias, y)\n",
        "print('Starting MSE =', my_mse)\n",
        "cost.append(my_mse)\n",
        "weights.append(w[0][0])\n",
        "biases.append(bias)\n",
        "for i in range(0, iterations):\n",
        "  for j in range(0, 5):\n",
        "    w = gradient_descent_update_dep_var(x, w, bias, y, mylr)\n",
        "    #print('new w =', w)\n",
        "    bias = gradient_descent_update_bias(x, w, bias, y, mylr)\n",
        "    #print('new bias =', bias)\n",
        "    print('new MSE =', mse_loss_fxn(x, w, bias, y))\n",
        "    #print()\n",
        "  yhat = x@w+bias\n",
        "  clear_output(wait=True)\n",
        "  plt.figure()\n",
        "  sns.scatterplot(x=x.squeeze(), y=y.squeeze())\n",
        "  plt.plot(x.squeeze(), yhat.squeeze(), color='red', linestyle='dashed') # use squeeze instead\n",
        "  plt.show()"
      ]
    },
    {
      "cell_type": "code",
      "execution_count": 69,
      "metadata": {
        "id": "S8aylWSu4STG"
      },
      "outputs": [
        {
          "data": {
            "text/plain": [
              "([np.float64(6524.34702907062)], np.float64(6524.34702907062))"
            ]
          },
          "execution_count": 69,
          "metadata": {},
          "output_type": "execute_result"
        }
      ],
      "source": [
        "cost, my_mse"
      ]
    },
    {
      "cell_type": "markdown",
      "metadata": {
        "id": "cYRqE8nM4W65"
      },
      "source": [
        "## Let's do it again"
      ]
    },
    {
      "cell_type": "code",
      "execution_count": 46,
      "metadata": {
        "id": "eBEUP5Y_4V5D"
      },
      "outputs": [],
      "source": [
        "# Dataset\n",
        "x = np.array([32.50234527, 53.42680403, 61.53035803, 47.47563963, 59.81320787,\n",
        "              55.14218841, 52.21179669, 39.29956669, 48.10504169, 52.55001444,\n",
        "              45.41973014, 54.35163488, 44.1640495 , 58.16847072, 56.72720806,\n",
        "              48.95588857, 44.68719623, 60.29732685, 45.61864377, 38.81681754]).reshape(-1, 1)\n",
        "\n",
        "y = np.array([31.70700585, 68.77759598, 62.5623823 , 71.54663223, 87.23092513,\n",
        "              78.21151827, 79.64197305, 59.17148932, 75.3312423 , 71.30087989,\n",
        "              55.16567715, 82.47884676, 62.00892325, 75.39287043, 81.43619216,\n",
        "              60.72360244, 82.89250373, 97.37989686, 48.84715332, 56.87721319]).reshape(-1, 1)\n",
        "\n",
        "# Initialize parameters\n",
        "w = np.random.randn(1, 1)\n",
        "b = np.random.randn()\n",
        "\n",
        "# Hyperparameters\n",
        "learning_rate = 0.001\n",
        "num_iterations = 1000"
      ]
    },
    {
      "cell_type": "code",
      "execution_count": null,
      "metadata": {
        "id": "eT8mff5p4bLj"
      },
      "outputs": [],
      "source": []
    },
    {
      "cell_type": "code",
      "execution_count": null,
      "metadata": {
        "id": "fi5_6HW14bOd"
      },
      "outputs": [],
      "source": []
    },
    {
      "cell_type": "markdown",
      "metadata": {
        "id": "7jQRuKyf4-VH"
      },
      "source": [
        "## Participation block"
      ]
    },
    {
      "cell_type": "markdown",
      "metadata": {
        "id": "DAcNjdqi4-g1"
      },
      "source": []
    },
    {
      "cell_type": "code",
      "execution_count": null,
      "metadata": {
        "id": "IsnpzE6B4bRt"
      },
      "outputs": [
        {
          "name": "stdout",
          "output_type": "stream",
          "text": [
            "Initial loss: 120.86470875478597\n",
            "Iteration 0, Loss: 120.86470875478597, w: 1.7369442273348932, b: 0.19980058692679012\n",
            "Iteration 100, Loss: 0.10849009048052585, w: 2.0614296219619774, b: 0.5806980950103988\n",
            "Iteration 200, Loss: 0.06030380958792346, w: 2.0305436685259237, b: 0.7957206165303612\n",
            "Iteration 300, Loss: 0.039536130168382214, w: 2.0102671544260913, b: 0.9368821059565418\n",
            "Iteration 400, Loss: 0.030585522225965965, w: 1.9969556979773881, b: 1.0295541012255005\n",
            "Iteration 500, Loss: 0.026727923072953956, w: 1.988216776094007, b: 1.0903929230744367\n",
            "Iteration 600, Loss: 0.02506534648362561, w: 1.9824797062265485, b: 1.1303333844104015\n",
            "Iteration 700, Loss: 0.024348796939273533, w: 1.9787133410955484, b: 1.156554149429335\n",
            "Iteration 800, Loss: 0.024039973121588162, w: 1.97624073632905, b: 1.1737679846025173\n",
            "Iteration 900, Loss: 0.02390687395053753, w: 1.9746174804527166, b: 1.1850688036730337\n",
            "w = 1.9736 (true value ≈ 2)\n",
            "b = 1.1924 (true value ≈ 1)\n",
            "Final loss: 0.0238\n"
          ]
        }
      ],
      "source": [
        "import numpy as np\n",
        "\n",
        "# Here's your dataset\n",
        "np.random.seed(42)  # for reproducibility\n",
        "\n",
        "# Generate some example data with a linear relationship\n",
        "# True relationship: y = 2*x + 1 + noise\n",
        "x = np.array([1, 2, 3, 4, 5, 6, 7, 8, 9, 10]).reshape(-1, 1)\n",
        "y = np.array([3.2, 5.1, 7.3, 8.9, 11.2, 12.8, 15.1, 16.9, 19.2, 20.8]).reshape(-1, 1)\n",
        "\n",
        "# Your task: \n",
        "# Find the parameters w (weight) and b (bias) such that y ≈ w*x + b\n",
        "# using gradient descent\n",
        "\n",
        "# Initialize your parameters (you choose the starting values)\n",
        "w = np.random.rand(1,1)  # weight\n",
        "b = 0.0  # bias\n",
        "\n",
        "# Set your hyperparameters\n",
        "learning_rate = 0.01  # also called alpha\n",
        "num_iterations = 1000\n",
        "\n",
        "# Now implement gradient descent to find the optimal w and b\n",
        "# Hint: You'll need to:\n",
        "# 1. Make predictions: y_pred = w*x + b\n",
        "# 2. Calculate the loss (MSE is common)\n",
        "# 3. Calculate gradients for w and b\n",
        "# 4. Update parameters using the gradients\n",
        "# 5. Repeat for num_iterations\n",
        "\n",
        "def mse_loss_fxn(x, w, bias, y):\n",
        "    y_pred = x @ w + bias\n",
        "    if y_pred.shape != y.shape:\n",
        "        print('shape mismatch!')\n",
        "    else:\n",
        "        mse = np.sum((y_pred - y)**2) / y.shape[0]\n",
        "    return mse\n",
        "\n",
        "def calculate_gradients(x, w, bias, y):\n",
        "    y_pred = x @ w + bias\n",
        "    error = y_pred - y\n",
        "    dw = (2 / y.shape[0]) * (x.T @ error)  # Gradient for w\n",
        "    db = (2 / y.shape[0]) * np.sum(error)  # Gradient for b\n",
        "    return dw, db\n",
        "\n",
        "initial_loss = mse_loss_fxn(x, w, b, y)\n",
        "print(f'Initial loss: {initial_loss}')\n",
        "for i in range(num_iterations):\n",
        "    # Make predictions\n",
        "    y_pred = x @ w + b\n",
        "    \n",
        "    # Calculate loss\n",
        "    loss = mse_loss_fxn(x, w, b, y)\n",
        "    \n",
        "    # Calculate gradients\n",
        "    dw, db = calculate_gradients(x, w, b, y)\n",
        "    \n",
        "    # Update parameters\n",
        "    w -= learning_rate * dw\n",
        "    b -= learning_rate * db\n",
        "    \n",
        "    if i % 100 == 0:  # Print every 100 iterations\n",
        "        print(f'Iteration {i}, Loss: {loss}, w: {w[0][0]}, b: {b}')\n",
        "\n",
        "# Final lossprint(f'\\nFinal parameters:')\n",
        "print(f'w = {w[0][0]:.4f} (true value ≈ 2)')\n",
        "print(f'b = {b:.4f} (true value ≈ 1)')\n",
        "print(f'Final loss: {mse_loss_fxn(x, w, b, y):.4f}')\n",
        "\n"
      ]
    },
    {
      "cell_type": "code",
      "execution_count": 77,
      "metadata": {},
      "outputs": [
        {
          "data": {
            "image/png": "[encoded data removed]",
            "text/plain": [
              "<Figure size 1000x500 with 2 Axes>"
            ]
          },
          "metadata": {},
          "output_type": "display_data"
        }
      ],
      "source": [
        "import matplotlib.pyplot as plt\n",
        "\n",
        "# Visualize the results\n",
        "plt.figure(figsize=(10, 5))\n",
        "\n",
        "# Plot 1: Data and fitted line\n",
        "plt.subplot(1, 2, 1)\n",
        "plt.scatter(x, y, color='blue', label='Data')\n",
        "plt.plot(x, x @ w + b, color='red', label='Fitted line')\n",
        "plt.xlabel('x')\n",
        "plt.ylabel('y')\n",
        "plt.legend()\n",
        "plt.title('Linear Regression Result')\n",
        "\n",
        "# Plot 2: Loss over iterations (you'd need to track this)\n",
        "plt.subplot(1, 2, 2)\n",
        "# You could modify your loop to track losses in a list\n",
        "plt.title('Loss over iterations')\n",
        "\n",
        "plt.tight_layout()\n",
        "plt.show()"
      ]
    },
    {
      "cell_type": "code",
      "execution_count": null,
      "metadata": {},
      "outputs": [],
      "source": []
    }
  ],
  "metadata": {
    "colab": {
      "collapsed_sections": [
        "s_pXms431fZZ",
        "9u843ml51kEd",
        "KqM2BPfD1rDS",
        "aK_ot3xQ1uXy",
        "kSWz3HLS1yLs",
        "ArMJ4efp11KF",
        "ukOrOycn2p0H",
        "8SZmvwfJ2ryt",
        "3HAvOYne4ulA",
        "3ZzZz9b96xCR",
        "xmbx_mQw7E-L",
        "cYRqE8nM4W65"
      ],
      "include_colab_link": true,
      "provenance": []
    },
    "kernelspec": {
      "display_name": "Python 3",
      "name": "python3"
    },
    "language_info": {
      "codemirror_mode": {
        "name": "ipython",
        "version": 3
      },
      "file_extension": ".py",
      "mimetype": "text/x-python",
      "name": "python",
      "nbconvert_exporter": "python",
      "pygments_lexer": "ipython3",
      "version": "3.9.6"
    }
  },
  "nbformat": 4,
  "nbformat_minor": 0
}
