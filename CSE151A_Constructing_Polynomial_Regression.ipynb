{
  "cells": [
    {
      "cell_type": "markdown",
      "metadata": {
        "id": "view-in-github",
        "colab_type": "text"
      },
      "source": [
        "<a href=\"https://colab.research.google.com/github/jaw039/Google-Colab-Notebooks/blob/main/CSE151A_Constructing_Polynomial_Regression.ipynb\" target=\"_parent\"><img src=\"https://colab.research.google.com/assets/colab-badge.svg\" alt=\"Open In Colab\"/></a>"
      ]
    },
    {
      "cell_type": "markdown",
      "id": "fef85b11",
      "metadata": {
        "id": "fef85b11"
      },
      "source": [
        "# Constructing a Polynomial Regression: An Example"
      ]
    },
    {
      "cell_type": "code",
      "execution_count": null,
      "id": "21308cdb",
      "metadata": {
        "id": "21308cdb"
      },
      "outputs": [],
      "source": [
        "import operator\n",
        "import numpy as np\n",
        "import matplotlib.pyplot as plt\n",
        "from sklearn.linear_model import LinearRegression\n",
        "from sklearn.metrics import mean_squared_error, r2_score\n",
        "from sklearn.preprocessing import PolynomialFeatures\n"
      ]
    },
    {
      "cell_type": "markdown",
      "source": [
        "## Creating a synthetic dataset"
      ],
      "metadata": {
        "id": "Tt_odcRwJrLb"
      },
      "id": "Tt_odcRwJrLb"
    },
    {
      "cell_type": "code",
      "execution_count": null,
      "id": "5e4de718",
      "metadata": {
        "scrolled": true,
        "id": "5e4de718"
      },
      "outputs": [],
      "source": [
        "#Building a dummy dataset with 100 data points\n",
        "\n",
        "np.random.seed(0)\n",
        "# np.random.normal creates a random normally distributed dataset\n",
        "# ( begin, stepsize, # of datapoints)\n",
        "x = 2 - 3 * np.random.normal(0, 1, 100)\n",
        "y = x - 2 * (x ** 2) + 0.5 * (x ** 3) + np.random.normal(-3, 3, 100)\n",
        "\n",
        "# transforming the data to include another axis\n",
        "x = x[:, np.newaxis]\n",
        "y = y[:, np.newaxis]\n",
        "\n",
        "plt.scatter(x,y, s=10)\n",
        "plt.show()"
      ]
    },
    {
      "cell_type": "markdown",
      "id": "d4ece429",
      "metadata": {
        "id": "d4ece429"
      },
      "source": [
        "## Linear Regression"
      ]
    },
    {
      "cell_type": "code",
      "execution_count": null,
      "id": "5dbd13ef",
      "metadata": {
        "id": "5dbd13ef"
      },
      "outputs": [],
      "source": [
        "#spliting the data [80:20]\n",
        "x_train = x[:-20]\n",
        "y_train = y[:-20]\n",
        "\n",
        "x_test = x[-20:]\n",
        "y_test = y[-20:]\n",
        "yhat_train_pred = None"
      ]
    },
    {
      "cell_type": "code",
      "execution_count": null,
      "id": "98d43bbe",
      "metadata": {
        "id": "98d43bbe"
      },
      "outputs": [],
      "source": [
        "model = LinearRegression()\n",
        "model.fit(x_train, y_train)\n",
        "print(\"Model weights: \")\n",
        "print(model.coef_)\n",
        "\n",
        "#here, we call predict on the training set because we want to see the fit of the model on the training set.\n",
        "yhat_train_pred = model.predict(x_train)\n",
        "yhat_test_pred = model.predict(x_test)\n",
        "\n",
        "# Let's plot our subset of data in this case 80% of our data.\n",
        "# Does it look the same as above?\n",
        "plt.scatter(x_train, y_train, s=10)\n",
        "plt.show()\n"
      ]
    },
    {
      "cell_type": "code",
      "execution_count": null,
      "id": "7f3ceee5",
      "metadata": {
        "id": "7f3ceee5"
      },
      "outputs": [],
      "source": [
        "# Here we plot our regression line\n",
        "# How does it fit? we can evaluate our MSE but also simply see that we can do better!\n",
        "plt.scatter(x_train, y_train, s=10)\n",
        "plt.plot(x_train, yhat_train_pred, color='r')\n",
        "plt.show()"
      ]
    },
    {
      "cell_type": "code",
      "execution_count": null,
      "id": "4bc7694f",
      "metadata": {
        "id": "4bc7694f"
      },
      "outputs": [],
      "source": [
        "# Let's check our error\n",
        "mse = mean_squared_error(y_train,yhat_train_pred)\n",
        "rmse = np.sqrt(mean_squared_error(y_train,yhat_train_pred))\n",
        "r2 = r2_score(y_train,yhat_train_pred)\n",
        "print('Training MSE: %8.15f' % mse)\n",
        "print('Training RMSE: %8.15f' % rmse)\n",
        "print('Training R2: %8.15f' % r2)"
      ]
    },
    {
      "cell_type": "code",
      "execution_count": null,
      "id": "47473018",
      "metadata": {
        "id": "47473018"
      },
      "outputs": [],
      "source": [
        "mse = mean_squared_error(y_test,yhat_test_pred)\n",
        "rmse = np.sqrt(mean_squared_error(y_test,yhat_test_pred))\n",
        "r2 = r2_score(y_test,yhat_test_pred)\n",
        "print('Test MSE: %8.15f' % mse)\n",
        "print('Test RMSE: %8.15f' % rmse)\n",
        "print('Test R2: %8.15f' % r2)"
      ]
    },
    {
      "cell_type": "markdown",
      "id": "c42d7a68",
      "metadata": {
        "id": "c42d7a68"
      },
      "source": [
        "## Constructing a 2nd order Polynomail Regression"
      ]
    },
    {
      "cell_type": "code",
      "execution_count": null,
      "id": "34175e3b",
      "metadata": {
        "id": "34175e3b"
      },
      "outputs": [],
      "source": [
        "#Rebuilding a dummy dataset with 100 data points\n",
        "\n",
        "np.random.seed(0)\n",
        "# np.random.normal creates a random normally distributed dataset\n",
        "# ( begin, stepsize, # of datapoints)\n",
        "x = 2 - 3 * np.random.normal(0, 1, 100)\n",
        "y = x - 2 * (x ** 2) + 0.5 * (x ** 3) + np.random.normal(-3, 3, 100)\n",
        "\n",
        "# transforming the data to include another axis\n",
        "x = x[:, np.newaxis]\n",
        "y = y[:, np.newaxis]\n"
      ]
    },
    {
      "cell_type": "code",
      "source": [
        "#x"
      ],
      "metadata": {
        "id": "ckhFjTj4aLyH"
      },
      "id": "ckhFjTj4aLyH",
      "execution_count": null,
      "outputs": []
    },
    {
      "cell_type": "code",
      "execution_count": null,
      "id": "d48af82f",
      "metadata": {
        "id": "d48af82f"
      },
      "outputs": [],
      "source": [
        "#  Generate a new feature matrix consisting of all polynomial combinations of the\n",
        "## features with degree less than or equal to the specified degree. For example,\n",
        "## if an input sample is two dimensional and of the form [a, b],\n",
        "## the degree-2 polynomial features are [1, a, b, a^2, ab, b^2].\n",
        "\n",
        "polynomial_features= PolynomialFeatures(degree=2)\n",
        "x_poly = polynomial_features.fit_transform(x)\n",
        "print('Polynomial Features: [1,x,x**2]')\n",
        "print(x_poly[0])"
      ]
    },
    {
      "cell_type": "code",
      "execution_count": null,
      "id": "6cb164d2",
      "metadata": {
        "id": "6cb164d2"
      },
      "outputs": [],
      "source": [
        "#Subset the data\n",
        "x_poly_train = x_poly[:-20]\n",
        "y_train = y[:-20]\n",
        "\n",
        "x_poly_test = x_poly[-20:]\n",
        "y_test = y[-20:]"
      ]
    },
    {
      "cell_type": "code",
      "execution_count": null,
      "id": "a71bec3d",
      "metadata": {
        "id": "a71bec3d"
      },
      "outputs": [],
      "source": [
        "model = LinearRegression()\n",
        "model.fit(x_poly_train, y_train)\n",
        "yhat_train_pred = model.predict(x_poly_train)\n",
        "yhat_test_pred = model.predict(x_poly_test)\n",
        "\n",
        "print(\"Model weights: \")\n",
        "print(model.coef_)"
      ]
    },
    {
      "cell_type": "code",
      "execution_count": null,
      "id": "b33cf4fa",
      "metadata": {
        "id": "b33cf4fa"
      },
      "outputs": [],
      "source": [
        "mse = mean_squared_error(y_train,yhat_train_pred)\n",
        "rmse = np.sqrt(mean_squared_error(y_train,yhat_train_pred))\n",
        "r2 = r2_score(y_train,yhat_train_pred)\n",
        "print('Training MSE: %8.15f' % mse)\n",
        "print('Training RMSE: %8.15f' % rmse)\n",
        "print('Training R2: %8.15f' % r2)"
      ]
    },
    {
      "cell_type": "code",
      "execution_count": null,
      "id": "054a3b71",
      "metadata": {
        "id": "054a3b71"
      },
      "outputs": [],
      "source": [
        "mse = mean_squared_error(y_test,yhat_test_pred)\n",
        "rmse = np.sqrt(mean_squared_error(y_test,yhat_test_pred))\n",
        "r2 = r2_score(y_test,yhat_test_pred)\n",
        "print('Testing MSE: %8.15f' % mse)\n",
        "print('Testing RMSE: %8.15f' % rmse)\n",
        "print('Testing R2: %8.15f' % r2)"
      ]
    },
    {
      "cell_type": "code",
      "execution_count": null,
      "id": "9b817235",
      "metadata": {
        "id": "9b817235"
      },
      "outputs": [],
      "source": [
        "plt.scatter(x, y, s=10)\n",
        "# sort the values of x before line plot\n",
        "sort_axis = operator.itemgetter(0)\n",
        "sorted_zip = sorted(zip(x,yhat_train_pred), key=sort_axis)\n",
        "x_poly_train, yhat_train_pred = zip(*sorted_zip)\n",
        "plt.plot(x_poly_train, yhat_train_pred, color='m')\n",
        "plt.show()"
      ]
    },
    {
      "cell_type": "markdown",
      "id": "13ac5006",
      "metadata": {
        "id": "13ac5006"
      },
      "source": [
        "## Polynomial Regresion 3rd order"
      ]
    },
    {
      "cell_type": "code",
      "execution_count": null,
      "id": "ebc0f7b3",
      "metadata": {
        "id": "ebc0f7b3"
      },
      "outputs": [],
      "source": [
        "#Building a dummy dataset with 100 data points\n",
        "\n",
        "np.random.seed(0)\n",
        "# np.random.normal creates a random normally distributed dataset\n",
        "# ( begin, stepsize, # of datapoints)\n",
        "x = 2 - 3 * np.random.normal(0, 1, 100)\n",
        "y = x - 2 * (x ** 2) + 0.5 * (x ** 3) + np.random.normal(-3, 3, 100)\n",
        "\n",
        "# transforming the data to include another axis\n",
        "x = x[:, np.newaxis]\n",
        "y = y[:, np.newaxis]\n"
      ]
    },
    {
      "cell_type": "code",
      "execution_count": null,
      "id": "b584fd10",
      "metadata": {
        "id": "b584fd10"
      },
      "outputs": [],
      "source": [
        "#  Generate a new feature matrix consisting of all polynomial combinations of the\n",
        "## features with degree less than or equal to the specified degree.\n",
        "polynomial_features= PolynomialFeatures(degree=3)\n",
        "x_poly = polynomial_features.fit_transform(x)\n",
        "print('Polynomial Features: [1,x,x**2,x**3]')\n",
        "print(x_poly[0])"
      ]
    },
    {
      "cell_type": "code",
      "execution_count": null,
      "id": "2f1f5e4f",
      "metadata": {
        "id": "2f1f5e4f"
      },
      "outputs": [],
      "source": [
        "# subset the data\n",
        "x_poly_train = x_poly[:-20]\n",
        "y_train = y[:-20]\n",
        "\n",
        "x_poly_test = x_poly[-20:]\n",
        "y_test = y[-20:]"
      ]
    },
    {
      "cell_type": "code",
      "execution_count": null,
      "id": "ce8395b6",
      "metadata": {
        "id": "ce8395b6"
      },
      "outputs": [],
      "source": [
        "model = LinearRegression()\n",
        "model.fit(x_poly_train, y_train)\n",
        "yhat_train_pred = model.predict(x_poly_train)\n",
        "yhat_test_pred = model.predict(x_poly_test)\n",
        "\n",
        "print(\"Model weights: \")\n",
        "print(model.coef_)"
      ]
    },
    {
      "cell_type": "code",
      "execution_count": null,
      "id": "97aea2e7",
      "metadata": {
        "id": "97aea2e7"
      },
      "outputs": [],
      "source": [
        "mse = mean_squared_error(y_train,yhat_train_pred)\n",
        "rmse = np.sqrt(mean_squared_error(y_train,yhat_train_pred))\n",
        "r2 = r2_score(y_train,yhat_train_pred)\n",
        "print('Training MSE: %8.15f' % mse)\n",
        "print('Training RMSE: %8.15f' % rmse)\n",
        "print('Training R2: %8.15f' % r2)"
      ]
    },
    {
      "cell_type": "code",
      "execution_count": null,
      "id": "f839a0bf",
      "metadata": {
        "id": "f839a0bf"
      },
      "outputs": [],
      "source": [
        "rmse = np.sqrt(mean_squared_error(y_test,yhat_test_pred))\n",
        "mse = mean_squared_error(y_test,yhat_test_pred)\n",
        "r2 = r2_score(y_test,yhat_test_pred)\n",
        "print('Testing MSE: %8.15f' % mse)\n",
        "print('Testing RMSE: %8.15f' % rmse)\n",
        "print('Testing R2: %8.15f' % r2)"
      ]
    },
    {
      "cell_type": "code",
      "source": [
        "x.mean()"
      ],
      "metadata": {
        "id": "0XnAsYHjb5GU"
      },
      "id": "0XnAsYHjb5GU",
      "execution_count": null,
      "outputs": []
    },
    {
      "cell_type": "code",
      "source": [
        "np.shape(x)"
      ],
      "metadata": {
        "id": "4SxO9-3gb9_9"
      },
      "id": "4SxO9-3gb9_9",
      "execution_count": null,
      "outputs": []
    },
    {
      "cell_type": "code",
      "execution_count": null,
      "id": "74dff930",
      "metadata": {
        "id": "74dff930"
      },
      "outputs": [],
      "source": [
        "plt.scatter(x, y, s=10)\n",
        "# sort the values of x before line plot\n",
        "sort_axis = operator.itemgetter(0)\n",
        "sorted_zip = sorted(zip(x,yhat_train_pred), key=sort_axis)\n",
        "x_poly_train, yhat_train_pred = zip(*sorted_zip)\n",
        "plt.plot(x_poly_train, yhat_train_pred, color='m')\n",
        "plt.show()"
      ]
    },
    {
      "cell_type": "markdown",
      "id": "a0899c9b",
      "metadata": {
        "id": "a0899c9b"
      },
      "source": [
        "## Multiorder polynomial"
      ]
    },
    {
      "cell_type": "code",
      "execution_count": null,
      "id": "24893a3a",
      "metadata": {
        "id": "24893a3a"
      },
      "outputs": [],
      "source": [
        "#Building a dummy dataset with 100 data points\n",
        "\n",
        "np.random.seed(0)\n",
        "# np.random.normal creates a random normally distributed dataset\n",
        "# ( begin, stepsize, # of datapoints)\n",
        "x = 2 - 3 * np.random.normal(0, 1, 100)\n",
        "y = x - 2 * (x ** 2) + 0.5 * (x ** 3) + np.random.normal(-3, 3, 100)\n",
        "\n",
        "# transforming the data to include another axis\n",
        "x = x[:, np.newaxis]\n",
        "y = y[:, np.newaxis]\n"
      ]
    },
    {
      "cell_type": "code",
      "execution_count": null,
      "id": "3d594315",
      "metadata": {
        "id": "3d594315"
      },
      "outputs": [],
      "source": [
        "#Using the same Dummy Dataset\n",
        "np.random.seed(0)\n",
        "x = 2 - 3 * np.random.normal(0, 1, 100)\n",
        "y = x - 2 * (x ** 2) + 0.5 * (x ** 3) + np.random.normal(-3, 3, 100)\n",
        "\n",
        "# transforming the data to include another axis\n",
        "x = x[:, np.newaxis]\n",
        "y = y[:, np.newaxis]\n"
      ]
    },
    {
      "cell_type": "code",
      "execution_count": null,
      "id": "7a8a141b",
      "metadata": {
        "id": "7a8a141b"
      },
      "outputs": [],
      "source": [
        "#  Generate a new feature matrix consisting of all polynomial combinations of the\n",
        "## features with degree less than or equal to the specified degree.\n",
        "polynomial_features= PolynomialFeatures(degree=15)\n",
        "x_poly = polynomial_features.fit_transform(x)\n",
        "\n",
        "x_poly_train = x_poly[:-20]\n",
        "y_train = y[:-20]\n",
        "\n",
        "x_poly_test = x_poly[-20:]\n",
        "y_test = y[-20:]"
      ]
    },
    {
      "cell_type": "code",
      "execution_count": null,
      "id": "d7ec0811",
      "metadata": {
        "id": "d7ec0811"
      },
      "outputs": [],
      "source": [
        "model = LinearRegression()\n",
        "model.fit(x_poly_train, y_train)\n",
        "yhat_train_pred = model.predict(x_poly_train)\n",
        "yhat_test_pred = model.predict(x_poly_test)\n",
        "\n",
        "print(\"Model weights: \")\n",
        "print(model.coef_)"
      ]
    },
    {
      "cell_type": "code",
      "execution_count": null,
      "id": "6b46bf61",
      "metadata": {
        "id": "6b46bf61"
      },
      "outputs": [],
      "source": [
        "mse = mean_squared_error(y_train,yhat_train_pred)\n",
        "rmse = np.sqrt(mean_squared_error(y_train,yhat_train_pred))\n",
        "r2 = r2_score(y_train,yhat_train_pred)\n",
        "print('Testing MSE: %8.15f' % mse)\n",
        "print('Testing RMSE: %8.15f' % rmse)\n",
        "print('Testing R2: %8.15f' % r2)"
      ]
    },
    {
      "cell_type": "code",
      "execution_count": null,
      "id": "9d14e670",
      "metadata": {
        "id": "9d14e670"
      },
      "outputs": [],
      "source": [
        "mse = np.sqrt(mean_squared_error(y_test,yhat_test_pred))\n",
        "rmse = np.sqrt(mean_squared_error(y_test,yhat_test_pred))\n",
        "r2 = r2_score(y_test,yhat_test_pred)\n",
        "print('Training MSE: %8.15f' % mse)\n",
        "print('Training RMSE: %8.15f' % rmse)\n",
        "print('Training R2: %8.15f' % r2)"
      ]
    },
    {
      "cell_type": "code",
      "execution_count": null,
      "id": "16fd4939",
      "metadata": {
        "id": "16fd4939"
      },
      "outputs": [],
      "source": [
        "plt.scatter(x, y, s=10)\n",
        "# sort the values of x before line plot\n",
        "sort_axis = operator.itemgetter(0)\n",
        "sorted_zip = sorted(zip(x,yhat_train_pred), key=sort_axis)\n",
        "x_poly_train, yhat_train_pred = zip(*sorted_zip)\n",
        "plt.plot(x_poly_train, yhat_train_pred, color='m')\n",
        "plt.show()"
      ]
    }
  ],
  "metadata": {
    "kernelspec": {
      "display_name": "Python 3 (ipykernel)",
      "language": "python",
      "name": "python3"
    },
    "language_info": {
      "codemirror_mode": {
        "name": "ipython",
        "version": 3
      },
      "file_extension": ".py",
      "mimetype": "text/x-python",
      "name": "python",
      "nbconvert_exporter": "python",
      "pygments_lexer": "ipython3",
      "version": "3.8.10"
    },
    "colab": {
      "provenance": [],
      "include_colab_link": true
    }
  },
  "nbformat": 4,
  "nbformat_minor": 5
}